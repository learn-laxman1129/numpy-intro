{
 "metadata": {
  "language_info": {
   "codemirror_mode": {
    "name": "ipython",
    "version": 3
   },
   "file_extension": ".py",
   "mimetype": "text/x-python",
   "name": "python",
   "nbconvert_exporter": "python",
   "pygments_lexer": "ipython3",
   "version": "3.8.3-final"
  },
  "orig_nbformat": 2,
  "kernelspec": {
   "name": "Python 3.8.3 64-bit ('aiml1': conda)",
   "display_name": "Python 3.8.3 64-bit ('aiml1': conda)",
   "metadata": {
    "interpreter": {
     "hash": "4679b77d4638167d678d58301c2a68afb4de0bda7d7a8bd5f7f4da2854807b37"
    }
   }
  }
 },
 "nbformat": 4,
 "nbformat_minor": 2,
 "cells": [
  {
   "source": [
    "# Numpy Intro\n",
    "\n",
    "## Reference:\n",
    "\n",
    "1. https://www.w3schools.com/python/numpy_intro.asp  \n",
    "2. https://numpy.org/  \n",
    "3. http://www.learningaboutelectronics.com/Articles/How-to-create-an-array-of-random-integers-in-Python-with-numpy.php  \n"
   ],
   "cell_type": "markdown",
   "metadata": {}
  },
  {
   "source": [
    "## Getting started"
   ],
   "cell_type": "markdown",
   "metadata": {}
  },
  {
   "cell_type": "code",
   "execution_count": 3,
   "metadata": {},
   "outputs": [
    {
     "output_type": "stream",
     "name": "stdout",
     "text": [
      "[1 2 3 4 5]\n<class 'numpy.ndarray'>\n1.18.5\n"
     ]
    }
   ],
   "source": [
    "import numpy as np\n",
    "arr = np.array([1,2,3,4,5])\n",
    "print(arr)\n",
    "print(type(arr))\n",
    "\n",
    "print(np.__version__)"
   ]
  },
  {
   "source": [
    "## Using tuple to create array"
   ],
   "cell_type": "markdown",
   "metadata": {}
  },
  {
   "cell_type": "code",
   "execution_count": 4,
   "metadata": {},
   "outputs": [
    {
     "output_type": "stream",
     "name": "stdout",
     "text": [
      "[1 2 3 4 5 6 7]\n"
     ]
    }
   ],
   "source": [
    "arr = np.array((1,2,3,4,5,6,7))\n",
    "print(arr)"
   ]
  },
  {
   "source": [
    "## Dimensions"
   ],
   "cell_type": "markdown",
   "metadata": {}
  },
  {
   "cell_type": "code",
   "execution_count": 17,
   "metadata": {},
   "outputs": [
    {
     "output_type": "stream",
     "name": "stdout",
     "text": [
      "42\n# of dimensions :  0\n"
     ]
    }
   ],
   "source": [
    "# 0 dimensional, with single value\n",
    "arr = np.array(42)\n",
    "print(arr)\n",
    "\n",
    "# check number of dimensions\n",
    "print(\"# of dimensions : \", arr.ndim) "
   ]
  },
  {
   "cell_type": "code",
   "execution_count": 16,
   "metadata": {},
   "outputs": [
    {
     "output_type": "stream",
     "name": "stdout",
     "text": [
      "[ 7 14 21 28 35 42]\n# of dimensions :  1\n"
     ]
    }
   ],
   "source": [
    "# 1 dimensional, with one array\n",
    "arr = np.array([7,14,21,28,35,42])\n",
    "print(arr)\n",
    "\n",
    "# check number of dimensions\n",
    "print(\"# of dimensions : \", arr.ndim) "
   ]
  },
  {
   "cell_type": "code",
   "execution_count": 19,
   "metadata": {},
   "outputs": [
    {
     "output_type": "stream",
     "name": "stdout",
     "text": [
      "[[1 2]\n [3 4]]\n# of dimensions :  2\n"
     ]
    }
   ],
   "source": [
    "# 2 dimensional, an array that has 1D arrays as elements\n",
    "arr = np.array([\n",
    "        [1,2],\n",
    "        [3,4]\n",
    "    ])\n",
    "print(arr)\n",
    "\n",
    "# check number of dimensions\n",
    "print(\"# of dimensions : \", arr.ndim) "
   ]
  },
  {
   "cell_type": "code",
   "execution_count": 18,
   "metadata": {},
   "outputs": [
    {
     "output_type": "stream",
     "name": "stdout",
     "text": [
      "[[[1 2]\n  [3 4]]\n\n [[5 6]\n  [7 9]]]\n# of dimensions :  3\n"
     ]
    }
   ],
   "source": [
    "# 3 dimensional, an array that has 2D arrays as its elements\n",
    "arr = np.array([\n",
    "    [\n",
    "        [1,2],\n",
    "        [3,4]\n",
    "    ],\n",
    "    [\n",
    "        [5,6],\n",
    "        [7,9]\n",
    "    ]\n",
    "])\n",
    "print(arr)\n",
    "\n",
    "# check number of dimensions\n",
    "print(\"# of dimensions : \", arr.ndim) "
   ]
  },
  {
   "source": [
    "## Creating higher dimensional array using numpy"
   ],
   "cell_type": "markdown",
   "metadata": {}
  },
  {
   "cell_type": "code",
   "execution_count": 21,
   "metadata": {},
   "outputs": [
    {
     "output_type": "stream",
     "name": "stdout",
     "text": [
      "[[[[[1 2 3 4]]]]]\n# of dimensions :  5\n"
     ]
    }
   ],
   "source": [
    "arr = np.array([1,2,3,4], ndmin=5)\n",
    "print(arr)\n",
    "# check number of dimensions\n",
    "print(\"# of dimensions : \", arr.ndim) "
   ]
  },
  {
   "cell_type": "code",
   "execution_count": 46,
   "metadata": {},
   "outputs": [
    {
     "output_type": "stream",
     "name": "stdout",
     "text": [
      "[[[[[ 1  2  3  4]\n    [ 5  6  7  8]]\n\n   [[11 12 13 14]\n    [15 16 17 18]]]]]\n# of dimensions :  5\n"
     ]
    }
   ],
   "source": [
    "arr = np.array([\n",
    "    [[1,2,3,4],[5,6,7,8]],\n",
    "    [[11,12,13,14],[15,16,17,18]]\n",
    "], ndmin=5)\n",
    "print(arr)\n",
    "# check number of dimensions\n",
    "print(\"# of dimensions : \", arr.ndim) "
   ]
  },
  {
   "source": [
    "## Array indexing\n",
    "Indexing is used to access the elemets in the array"
   ],
   "cell_type": "markdown",
   "metadata": {}
  },
  {
   "cell_type": "code",
   "execution_count": 51,
   "metadata": {},
   "outputs": [
    {
     "output_type": "stream",
     "name": "stdout",
     "text": [
      "accessing the 1st level\n--------------------\n[[[[ 1  2  3  4]\n   [ 5  6  7  8]]\n\n  [[11 12 13 14]\n   [15 16 17 18]]]]\n--------------------\naccessing the 2nd level\n--------------------\n[[[ 1  2  3  4]\n  [ 5  6  7  8]]\n\n [[11 12 13 14]\n  [15 16 17 18]]]\n--------------------\naccessing the 3rd level\n--------------------\n[[1 2 3 4]\n [5 6 7 8]]\n--------------------\naccessing the 4th level\n--------------------\n[15 16 17 18]\n--------------------\naccessing the 5th level\n--------------------\n18\n"
     ]
    }
   ],
   "source": [
    "print('accessing the 1st level')\n",
    "print('-'*20)\n",
    "print(arr[0])\n",
    "print('-'*20)\n",
    "\n",
    "print('accessing the 2nd level')\n",
    "print('-'*20)\n",
    "print(arr[0][0])\n",
    "print('-'*20)\n",
    "\n",
    "print('accessing the 3rd level')\n",
    "print('-'*20)\n",
    "print(arr[0][0][0])\n",
    "print('-'*20)\n",
    "\n",
    "print('accessing the 4th level')\n",
    "print('-'*20)\n",
    "print(arr[0][0][1][1])\n",
    "print('-'*20)\n",
    "\n",
    "print('accessing the 5th level')\n",
    "print('-'*20)\n",
    "print(arr[0][0][1][1][3])\n",
    "\n"
   ]
  },
  {
   "source": [
    "## Array can be accessed by passing an array of indices\n",
    "\n",
    "arr\\[l,m,n,o\\] => returns the 4D array element, if its present"
   ],
   "cell_type": "markdown",
   "metadata": {}
  },
  {
   "cell_type": "code",
   "execution_count": 52,
   "metadata": {},
   "outputs": [
    {
     "output_type": "stream",
     "name": "stdout",
     "text": [
      "accessing the 1st level\n--------------------\n[[[[ 1  2  3  4]\n   [ 5  6  7  8]]\n\n  [[11 12 13 14]\n   [15 16 17 18]]]]\n--------------------\naccessing the 2nd level\n--------------------\n[[[ 1  2  3  4]\n  [ 5  6  7  8]]\n\n [[11 12 13 14]\n  [15 16 17 18]]]\n--------------------\naccessing the 3rd level\n--------------------\n[[1 2 3 4]\n [5 6 7 8]]\n--------------------\naccessing the 4th level\n--------------------\n[15 16 17 18]\n--------------------\naccessing the 5th level\n--------------------\n18\n"
     ]
    }
   ],
   "source": [
    "print('accessing the 1st level')\n",
    "print('-'*20)\n",
    "print(arr[0])\n",
    "print('-'*20)\n",
    "\n",
    "print('accessing the 2nd level')\n",
    "print('-'*20)\n",
    "print(arr[0,0])\n",
    "print('-'*20)\n",
    "\n",
    "print('accessing the 3rd level')\n",
    "print('-'*20)\n",
    "print(arr[0,0,0])\n",
    "print('-'*20)\n",
    "\n",
    "print('accessing the 4th level')\n",
    "print('-'*20)\n",
    "print(arr[0,0,1,1])\n",
    "print('-'*20)\n",
    "\n",
    "print('accessing the 5th level')\n",
    "print('-'*20)\n",
    "print(arr[0,0,1,1,3])"
   ]
  },
  {
   "source": [
    "## Negative indexing"
   ],
   "cell_type": "markdown",
   "metadata": {}
  },
  {
   "cell_type": "code",
   "execution_count": 61,
   "metadata": {},
   "outputs": [
    {
     "output_type": "stream",
     "name": "stdout",
     "text": [
      "accessing the 3rd level, last element\n--------------------\n[[11 12 13 14]\n [15 16 17 18]]\n--------------------\naccessing the 4th level, last element\n--------------------\n[15 16 17 18]\n--------------------\naccessing the 5th level, second last element of the first element at 4th level\n--------------------\n13\n--------------------\n"
     ]
    }
   ],
   "source": [
    "print('accessing the 3rd level, last element')\n",
    "print('-'*20)\n",
    "print(arr[0,0,-1])\n",
    "print('-'*20)\n",
    "\n",
    "print('accessing the 4th level, last element')\n",
    "print('-'*20)\n",
    "print(arr[0,0,-1,-1])\n",
    "print('-'*20)\n",
    "\n",
    "print('accessing the 5th level, second last element of the first element at 4th level')\n",
    "print('-'*20)\n",
    "print(arr[0,0,-1,-2,-2])\n",
    "print('-'*20)"
   ]
  },
  {
   "source": [
    "## Array slicing\n",
    "\n",
    "Slicing helps in taking elements from one index to another index\n",
    "\n",
    "e.g.\n",
    "\n",
    "arr\\[start:end\\]  \n",
    "arr\\[start:end:step\\]  \n",
    "arr\\[start:end,start,:end\\] etc.\n"
   ],
   "cell_type": "markdown",
   "metadata": {}
  },
  {
   "cell_type": "code",
   "execution_count": 80,
   "metadata": {},
   "outputs": [
    {
     "output_type": "stream",
     "name": "stdout",
     "text": [
      "[25  7 53 87 28 72 17 93 34 62]\n# of dims 1\n--------------------\nprinting elements from 2nd to 4th\n[ 7 53 87]\nprinting elements from 4nd to end\n[28 72 17 93 34 62]\nprinting elements till 7th\n[25  7 53 87 28 72 17]\n"
     ]
    }
   ],
   "source": [
    "# 1D array\n",
    "arr = np.random.randint(1,100,10)\n",
    "print(arr)\n",
    "print(\"# of dims\",arr.ndim)\n",
    "print(\"-\"*20)\n",
    "\n",
    "print(\"printing elements from 2nd to 4th\")\n",
    "print(arr[1:4])\n",
    "\n",
    "print(\"printing elements from 4nd to end\")\n",
    "print(arr[4:])\n",
    "\n",
    "print(\"printing elements till 7th\")\n",
    "print(arr[:7])"
   ]
  },
  {
   "source": [
    "## Negative slicing"
   ],
   "cell_type": "markdown",
   "metadata": {}
  },
  {
   "cell_type": "code",
   "execution_count": 89,
   "metadata": {},
   "outputs": [
    {
     "output_type": "stream",
     "name": "stdout",
     "text": [
      "[73 72 21 10  8 46 24 27 53 77]\n# of dims 1\n--------------------\nprinting 3rd last elements till 2nd last elemet\n[27 53]\n--------------------\nprinting 6th last elements till the last elemet\n[ 8 46 24 27 53 77]\n"
     ]
    }
   ],
   "source": [
    "arr = np.random.randint(1,100,10)\n",
    "print(arr)\n",
    "print(\"# of dims\",arr.ndim)\n",
    "print(\"-\"*20)\n",
    "\n",
    "\n",
    "print(\"printing 3rd last elements till 2nd last elemet\")\n",
    "print(arr[-3:-1]) \n",
    "print(\"-\"*20)\n",
    "\n",
    "print(\"printing 6th last elements till the last elemet\")\n",
    "print(arr[-6:]) "
   ]
  },
  {
   "source": [
    "## using step"
   ],
   "cell_type": "markdown",
   "metadata": {}
  },
  {
   "cell_type": "code",
   "execution_count": 92,
   "metadata": {},
   "outputs": [
    {
     "output_type": "stream",
     "name": "stdout",
     "text": [
      "[94 56 27 32 23 96 97 50 92 52]\n# of dims 1\n--------------------\nelements at the 2nd index steps\n[94 27 23 97 92]\n--------------------\nelements at the 2nd index steps from 1st till 5th element\n[94 27 23]\n--------------------\nelements at even 2nd indices steps from 1st till 5th element\n[56 32]\n--------------------\n"
     ]
    }
   ],
   "source": [
    "arr = np.random.randint(1,100,10)\n",
    "print(arr)\n",
    "print(\"# of dims\",arr.ndim)\n",
    "print(\"-\"*20)\n",
    "\n",
    "print(\"elements at the 2nd index steps\")\n",
    "print(arr[::2])\n",
    "print(\"-\"*20)\n",
    "\n",
    "print(\"elements at the 2nd index steps from 1st till 5th element\")\n",
    "print(arr[:5:2])\n",
    "print(\"-\"*20)\n",
    "\n",
    "print(\"elements at even 2nd indices steps from 1st till 5th element\")\n",
    "print(arr[1:5:2])\n",
    "print(\"-\"*20)\n"
   ]
  },
  {
   "cell_type": "code",
   "execution_count": 152,
   "metadata": {},
   "outputs": [
    {
     "output_type": "stream",
     "name": "stdout",
     "text": [
      "[[ 9 29 38 15 10]\n [80 25 64  4 45]]\n# of dims 2\n--------------------\nprinting elements from index 0 \n[[ 9 29 38 15 10]\n [80 25 64  4 45]]\n# of dims 2\n--------------------\nprinting the first element from 2D array \n[[ 9 29 38 15 10]]\n# of dims 2\n--------------------\nprinting the second elements from 2D array \n[[80 25 64  4 45]]\n# of dims 2\n--------------------\nprinting the second element of the second element from 2D array \n[[80 25 64  4 45]]\n# of dims 2\n--------------------\n"
     ]
    }
   ],
   "source": [
    "# 2D array\n",
    "arr = np.random.randint(1,100, size=(2,5))\n",
    "print(arr)\n",
    "print(\"# of dims\",arr.ndim)\n",
    "print(\"-\"*20)\n",
    "\n",
    "print(\"printing elements from index 0 \")\n",
    "print(arr[0:])\n",
    "print(\"# of dims\",arr[0:].ndim)\n",
    "print(\"-\"*20)\n",
    "\n",
    "print(\"printing the first element from 2D array \")\n",
    "print(arr[0:1])\n",
    "print(\"# of dims\",arr[0:1].ndim)\n",
    "print(\"-\"*20)\n",
    "\n",
    "print(\"printing the second elements from 2D array \")\n",
    "print(arr[1:])\n",
    "print(\"# of dims\",arr[1:].ndim)\n",
    "print(\"-\"*20)\n",
    "\n",
    "print(\"printing the second element of the second element from 2D array \")\n",
    "print(arr[1:])\n",
    "print(\"# of dims\",arr[1:,1:2].ndim)\n",
    "print(\"-\"*20)"
   ]
  },
  {
   "cell_type": "code",
   "execution_count": 154,
   "metadata": {},
   "outputs": [
    {
     "output_type": "stream",
     "name": "stdout",
     "text": [
      "[[75 10 49 17  1]\n [51 82 68 99 88]]\n# of dims 2\n--------------------\nprinting the 3rd and 4th elements from all rows of 2D array\n[[49 17]\n [68 99]]\n# of dims 2\n--------------------\nprinting the 3rd and 4th elements from the second row of 2D array\n[[68]]\n# of dims 2\n--------------------\n"
     ]
    }
   ],
   "source": [
    "# 2D array\n",
    "arr = np.random.randint(1,100, size=(2,5))\n",
    "print(arr)\n",
    "print(\"# of dims\",arr.ndim)\n",
    "print(\"-\"*20)\n",
    "\n",
    "\n",
    "print(\"printing the 3rd and 4th elements from all rows of 2D array\")\n",
    "print(arr[0:,2:4])\n",
    "print(\"# of dims\",arr[0:,2:4].ndim)\n",
    "print(\"-\"*20)\n",
    "\n",
    "\n",
    "print(\"printing the 3rd and 4th elements from the second row of 2D array\")\n",
    "print(arr[1:2,2:3])\n",
    "print(\"# of dims\",arr[1:2,2:3].ndim)\n",
    "print(\"-\"*20)\n"
   ]
  },
  {
   "cell_type": "code",
   "execution_count": 164,
   "metadata": {},
   "outputs": [
    {
     "output_type": "stream",
     "name": "stdout",
     "text": [
      "3 dimentional array, with 2 rows and 3 elements\n[[[2 4 4]\n  [4 6 5]]\n\n [[4 6 3]\n  [6 8 3]]\n\n [[2 7 1]\n  [6 7 6]]]\n# of dims 3\n--------------------\n3 dimentional array, with 5 rows and 7 elements\n[[[66 50 84 99 78 45 55]\n  [21 10 19 50  2 67 21]\n  [81 70 71 13 51 15 46]\n  [25 60 64 48 84 49 91]\n  [12 11 62 59 22  5 91]]\n\n [[52 15 81 17  2  5 88]\n  [ 2 23  6 77 91 74 54]\n  [21 36 32 96 92 17 25]\n  [ 1 70 54 68 48 46 72]\n  [55 62 27 27 85 77 62]]\n\n [[56 55  2 69 43 75  2]\n  [59 94 49  7 93 65 49]\n  [69 89 13 99 55 71 57]\n  [52 28 72 26 70  7 32]\n  [29 40  4 32 93  2 85]]]\n# of dims 3\n--------------------\n"
     ]
    }
   ],
   "source": [
    "# 3D array\n",
    "print(\"3 dimentional array, with 2 rows and 3 elements\")\n",
    "arr = np.random.randint(1,10, size=(3,2,3)) \n",
    "print(arr)\n",
    "print(\"# of dims\",arr.ndim)\n",
    "print(\"-\"*20)\n",
    "\n",
    "\n",
    "print(\"3 dimentional array, with 5 rows and 7 elements\")\n",
    "arr = np.random.randint(1,100, size=(3,5,7)) \n",
    "print(arr)\n",
    "print(\"# of dims\",arr.ndim)\n",
    "print(\"-\"*20)"
   ]
  },
  {
   "cell_type": "code",
   "execution_count": 165,
   "metadata": {},
   "outputs": [
    {
     "output_type": "stream",
     "name": "stdout",
     "text": [
      "the first item in the 3D array using simple index gives 1D array\n[[66 50 84 99 78 45 55]\n [21 10 19 50  2 67 21]\n [81 70 71 13 51 15 46]\n [25 60 64 48 84 49 91]\n [12 11 62 59 22  5 91]]\n# of dims 2\n--------------------\nthe first item in the 3D array, using slice gives 3D array\n[[[66 50 84 99 78 45 55]\n  [21 10 19 50  2 67 21]\n  [81 70 71 13 51 15 46]\n  [25 60 64 48 84 49 91]\n  [12 11 62 59 22  5 91]]]\n# of dims 3\n--------------------\n"
     ]
    }
   ],
   "source": [
    "print(\"the first item in the 3D array using simple index gives 1D array\")\n",
    "print(arr[0])\n",
    "print(\"# of dims\",arr[0].ndim)\n",
    "print(\"-\"*20)\n",
    "\n",
    "print(\"the first item in the 3D array, using slice gives 3D array\")\n",
    "print(arr[0:1])\n",
    "print(\"# of dims\",arr[0:1].ndim)\n",
    "print(\"-\"*20)"
   ]
  },
  {
   "cell_type": "code",
   "execution_count": 169,
   "metadata": {},
   "outputs": [
    {
     "output_type": "stream",
     "name": "stdout",
     "text": [
      "the second element in 3D array\n[[[52 15 81 17  2  5 88]\n  [ 2 23  6 77 91 74 54]\n  [21 36 32 96 92 17 25]\n  [ 1 70 54 68 48 46 72]\n  [55 62 27 27 85 77 62]]]\n# of dims 3\n--------------------\n"
     ]
    }
   ],
   "source": [
    "print(\"the second element in 3D array\")\n",
    "print(arr[1:2])\n",
    "print(\"# of dims\",arr[0:1].ndim)\n",
    "print(\"-\"*20)"
   ]
  },
  {
   "cell_type": "code",
   "execution_count": 172,
   "metadata": {},
   "outputs": [
    {
     "output_type": "stream",
     "name": "stdout",
     "text": [
      "the 3rd and 4th element from the second element in 3D array\n[[[21 36 32 96 92 17 25]\n  [ 1 70 54 68 48 46 72]]]\n# of dims 3\n--------------------\n"
     ]
    }
   ],
   "source": [
    "print(\"the 3rd and 4th element from the second element in 3D array\")\n",
    "print(arr[1:2,2:4])\n",
    "print(\"# of dims\",arr[1:2,2:4].ndim)\n",
    "print(\"-\"*20)"
   ]
  },
  {
   "cell_type": "code",
   "execution_count": 182,
   "metadata": {},
   "outputs": [
    {
     "output_type": "stream",
     "name": "stdout",
     "text": [
      "the 6th element from the 3rd and 4th element from the second element in 3D array\n[[[25]\n  [72]]]\n# of dims 3\n--------------------\nthe 6th element from the 5th element from the second element in 3D array\n[[[77]]]\n# of dims 3\n--------------------\n"
     ]
    }
   ],
   "source": [
    "print(\"the 6th element from the 3rd and 4th element from the second element in 3D array\")\n",
    "print(arr[1:2,2:4,6:7])\n",
    "print(\"# of dims\",arr[1:2,2:4, 6:7].ndim)\n",
    "print(\"-\"*20)\n",
    "\n",
    "print(\"the 6th element, from the 5th element from the second element in 3D array\")\n",
    "\n",
    "\"\"\"\n",
    "1. 1:2 idexes the 2nd element of 3D array \n",
    "2. 4:5 indexes the 5th element of the array obtained as a result of step 1\n",
    "3. 5:6 indexes the 6th element of the array obtained as a result of step 2\n",
    "\"\"\"\n",
    "print(arr[1:2,4:5,5:6]) \n",
    "print(\"# of dims\",arr[1:2, 4:5, 5:6].ndim)\n",
    "print(\"-\"*20)"
   ]
  },
  {
   "source": [
    "## Data types\n",
    "\n",
    "Below is a list of all data types in NumPy and the characters used to represent them.\n",
    "\n",
    "    i - integer\n",
    "    b - boolean\n",
    "    u - unsigned integer\n",
    "    f - float\n",
    "    c - complex float\n",
    "    m - timedelta\n",
    "    M - datetime\n",
    "    O - object\n",
    "    S - string\n",
    "    U - unicode string\n",
    "    V - fixed chunk of memory for other type ( void )\n"
   ],
   "cell_type": "markdown",
   "metadata": {}
  },
  {
   "cell_type": "code",
   "execution_count": 189,
   "metadata": {},
   "outputs": [
    {
     "output_type": "stream",
     "name": "stdout",
     "text": [
      "[1 2 3 4]\ndatatype is :  int64\n--------------------\n['apple' 'banana' 'mango' 'peach']\ndatatype is :  <U6\n--------------------\nwith a defined datatype\n[b'1' b'2' b'3' b'4']\ndatatype is :  |S1\n--------------------\n"
     ]
    }
   ],
   "source": [
    "arr = np.array([1, 2, 3, 4])\n",
    "print(arr)\n",
    "print(\"datatype is : \",arr.dtype) \n",
    "print(\"-\"*20)\n",
    "\n",
    "arr = np.array([\"apple\", 'banana', 'mango', 'peach'])\n",
    "print(arr)\n",
    "print(\"datatype is : \",arr.dtype) \n",
    "print(\"-\"*20)\n",
    "\n",
    "print(\"with a defined datatype\")\n",
    "arr = np.array([1,2,3,4], dtype=\"S\")\n",
    "print(arr)\n",
    "print(\"datatype is : \",arr.dtype) \n",
    "print(\"-\"*20)"
   ]
  },
  {
   "source": [
    "For i, u, f, S and U we can define size as well."
   ],
   "cell_type": "markdown",
   "metadata": {}
  },
  {
   "cell_type": "code",
   "execution_count": 195,
   "metadata": {},
   "outputs": [
    {
     "output_type": "stream",
     "name": "stdout",
     "text": [
      "[1 2 3 4]\nint32\n--------------------\n[1 2 3 4]\nint64\n--------------------\n"
     ]
    }
   ],
   "source": [
    "arr = np.array([1, 2, 3, 4], dtype='i4')\n",
    "print(arr)\n",
    "print(arr.dtype) \n",
    "print(\"-\"*20)\n",
    "\n",
    "arr = np.array([1, 2, 3, 4], dtype='i8')\n",
    "print(arr)\n",
    "print(arr.dtype) \n",
    "print(\"-\"*20)"
   ]
  },
  {
   "source": [
    "## Converting datatype of existing array"
   ],
   "cell_type": "markdown",
   "metadata": {}
  },
  {
   "cell_type": "code",
   "execution_count": 200,
   "metadata": {},
   "outputs": [
    {
     "output_type": "stream",
     "name": "stdout",
     "text": [
      "Original array :  [1.1 2.1 3.1]\nfloat64\n--------------------\nNew array [1 2 3]\nint32\n--------------------\n"
     ]
    }
   ],
   "source": [
    "arr = np.array([1.1, 2.1, 3.1])\n",
    "print('Original array : ',arr)\n",
    "print(arr.dtype) \n",
    "print('-'*20)\n",
    "\n",
    "newarr = arr.astype('i')\n",
    "\n",
    "print('New array',newarr)\n",
    "print(newarr.dtype) \n",
    "print('-'*20)"
   ]
  },
  {
   "cell_type": "code",
   "execution_count": 201,
   "metadata": {},
   "outputs": [
    {
     "output_type": "stream",
     "name": "stdout",
     "text": [
      "Original array :  [1.1 2.1 3.1]\nfloat64\n--------------------\nNew array [1 2 3]\nint64\n--------------------\n"
     ]
    }
   ],
   "source": [
    "arr = np.array([1.1, 2.1, 3.1])\n",
    "print('Original array : ',arr)\n",
    "print(arr.dtype) \n",
    "print('-'*20)\n",
    "\n",
    "newarr = arr.astype(int)\n",
    "\n",
    "print('New array',newarr)\n",
    "print(newarr.dtype) \n",
    "print('-'*20)"
   ]
  },
  {
   "cell_type": "code",
   "execution_count": 203,
   "metadata": {},
   "outputs": [
    {
     "output_type": "stream",
     "name": "stdout",
     "text": [
      "Original array :  [1.1 2.1 0. ]\nfloat64\n--------------------\nNew array [ True  True False]\nbool\n--------------------\n"
     ]
    }
   ],
   "source": [
    "arr = np.array([1.1, 2.1, 0.0])\n",
    "print('Original array : ',arr)\n",
    "print(arr.dtype) \n",
    "print('-'*20)\n",
    "\n",
    "newarr = arr.astype(bool)\n",
    "\n",
    "print('New array',newarr)\n",
    "print(newarr.dtype) \n",
    "print('-'*20)"
   ]
  },
  {
   "cell_type": "code",
   "execution_count": 204,
   "metadata": {},
   "outputs": [
    {
     "output_type": "stream",
     "name": "stdout",
     "text": [
      "Original array :  [1.1 2.1 0. ]\nfloat64\n--------------------\nNew array ['1.1' '2.1' '0.0']\n<U32\n--------------------\n"
     ]
    }
   ],
   "source": [
    "arr = np.array([1.1, 2.1, 0.0])\n",
    "print('Original array : ',arr)\n",
    "print(arr.dtype) \n",
    "print('-'*20)\n",
    "\n",
    "newarr = arr.astype(str)\n",
    "\n",
    "print('New array',newarr)\n",
    "print(newarr.dtype) \n",
    "print('-'*20)"
   ]
  },
  {
   "cell_type": "code",
   "execution_count": null,
   "metadata": {},
   "outputs": [],
   "source": []
  }
 ]
}