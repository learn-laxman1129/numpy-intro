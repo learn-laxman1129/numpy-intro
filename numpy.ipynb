{
 "metadata": {
  "language_info": {
   "codemirror_mode": {
    "name": "ipython",
    "version": 3
   },
   "file_extension": ".py",
   "mimetype": "text/x-python",
   "name": "python",
   "nbconvert_exporter": "python",
   "pygments_lexer": "ipython3",
   "version": 3
  },
  "orig_nbformat": 2
 },
 "nbformat": 4,
 "nbformat_minor": 2,
 "cells": [
  {
   "source": [
    "# Numpy Intro\n",
    "\n",
    "## Reference:\n",
    "\n",
    "1. https://www.w3schools.com/python/numpy_intro.asp  \n",
    "2. https://numpy.org/  "
   ],
   "cell_type": "markdown",
   "metadata": {}
  }
 ]
}