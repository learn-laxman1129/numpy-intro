{
 "metadata": {
  "language_info": {
   "codemirror_mode": {
    "name": "ipython",
    "version": 3
   },
   "file_extension": ".py",
   "mimetype": "text/x-python",
   "name": "python",
   "nbconvert_exporter": "python",
   "pygments_lexer": "ipython3",
   "version": "3.8.3-final"
  },
  "orig_nbformat": 2,
  "kernelspec": {
   "name": "Python 3.8.3 64-bit ('aiml1': conda)",
   "display_name": "Python 3.8.3 64-bit ('aiml1': conda)",
   "metadata": {
    "interpreter": {
     "hash": "4679b77d4638167d678d58301c2a68afb4de0bda7d7a8bd5f7f4da2854807b37"
    }
   }
  }
 },
 "nbformat": 4,
 "nbformat_minor": 2,
 "cells": [
  {
   "source": [
    "# Numpy Intro\n",
    "\n",
    "## Reference:\n",
    "\n",
    "1. https://www.w3schools.com/python/numpy_intro.asp  \n",
    "2. https://numpy.org/  \n",
    "3. http://www.learningaboutelectronics.com/Articles/How-to-create-an-array-of-random-integers-in-Python-with-numpy.php  \n"
   ],
   "cell_type": "markdown",
   "metadata": {}
  },
  {
   "source": [
    "## Getting started"
   ],
   "cell_type": "markdown",
   "metadata": {}
  },
  {
   "cell_type": "code",
   "execution_count": 3,
   "metadata": {},
   "outputs": [
    {
     "output_type": "stream",
     "name": "stdout",
     "text": [
      "[1 2 3 4 5]\n<class 'numpy.ndarray'>\n1.18.5\n"
     ]
    }
   ],
   "source": [
    "import numpy as np\n",
    "arr = np.array([1,2,3,4,5])\n",
    "print(arr)\n",
    "print(type(arr))\n",
    "\n",
    "print(np.__version__)"
   ]
  },
  {
   "source": [
    "## Using tuple to create array"
   ],
   "cell_type": "markdown",
   "metadata": {}
  },
  {
   "cell_type": "code",
   "execution_count": 4,
   "metadata": {},
   "outputs": [
    {
     "output_type": "stream",
     "name": "stdout",
     "text": [
      "[1 2 3 4 5 6 7]\n"
     ]
    }
   ],
   "source": [
    "arr = np.array((1,2,3,4,5,6,7))\n",
    "print(arr)"
   ]
  },
  {
   "source": [
    "## Dimensions"
   ],
   "cell_type": "markdown",
   "metadata": {}
  },
  {
   "cell_type": "code",
   "execution_count": 17,
   "metadata": {},
   "outputs": [
    {
     "output_type": "stream",
     "name": "stdout",
     "text": [
      "42\n# of dimensions :  0\n"
     ]
    }
   ],
   "source": [
    "# 0 dimensional, with single value\n",
    "arr = np.array(42)\n",
    "print(arr)\n",
    "\n",
    "# check number of dimensions\n",
    "print(\"# of dimensions : \", arr.ndim) "
   ]
  },
  {
   "cell_type": "code",
   "execution_count": 16,
   "metadata": {},
   "outputs": [
    {
     "output_type": "stream",
     "name": "stdout",
     "text": [
      "[ 7 14 21 28 35 42]\n# of dimensions :  1\n"
     ]
    }
   ],
   "source": [
    "# 1 dimensional, with one array\n",
    "arr = np.array([7,14,21,28,35,42])\n",
    "print(arr)\n",
    "\n",
    "# check number of dimensions\n",
    "print(\"# of dimensions : \", arr.ndim) "
   ]
  },
  {
   "cell_type": "code",
   "execution_count": 19,
   "metadata": {},
   "outputs": [
    {
     "output_type": "stream",
     "name": "stdout",
     "text": [
      "[[1 2]\n [3 4]]\n# of dimensions :  2\n"
     ]
    }
   ],
   "source": [
    "# 2 dimensional, an array that has 1D arrays as elements\n",
    "arr = np.array([\n",
    "        [1,2],\n",
    "        [3,4]\n",
    "    ])\n",
    "print(arr)\n",
    "\n",
    "# check number of dimensions\n",
    "print(\"# of dimensions : \", arr.ndim) "
   ]
  },
  {
   "cell_type": "code",
   "execution_count": 18,
   "metadata": {},
   "outputs": [
    {
     "output_type": "stream",
     "name": "stdout",
     "text": [
      "[[[1 2]\n  [3 4]]\n\n [[5 6]\n  [7 9]]]\n# of dimensions :  3\n"
     ]
    }
   ],
   "source": [
    "# 3 dimensional, an array that has 2D arrays as its elements\n",
    "arr = np.array([\n",
    "    [\n",
    "        [1,2],\n",
    "        [3,4]\n",
    "    ],\n",
    "    [\n",
    "        [5,6],\n",
    "        [7,9]\n",
    "    ]\n",
    "])\n",
    "print(arr)\n",
    "\n",
    "# check number of dimensions\n",
    "print(\"# of dimensions : \", arr.ndim) "
   ]
  },
  {
   "source": [
    "## Creating higher dimensional array using numpy"
   ],
   "cell_type": "markdown",
   "metadata": {}
  },
  {
   "cell_type": "code",
   "execution_count": 21,
   "metadata": {},
   "outputs": [
    {
     "output_type": "stream",
     "name": "stdout",
     "text": [
      "[[[[[1 2 3 4]]]]]\n# of dimensions :  5\n"
     ]
    }
   ],
   "source": [
    "arr = np.array([1,2,3,4], ndmin=5)\n",
    "print(arr)\n",
    "# check number of dimensions\n",
    "print(\"# of dimensions : \", arr.ndim) "
   ]
  },
  {
   "cell_type": "code",
   "execution_count": 46,
   "metadata": {},
   "outputs": [
    {
     "output_type": "stream",
     "name": "stdout",
     "text": [
      "[[[[[ 1  2  3  4]\n    [ 5  6  7  8]]\n\n   [[11 12 13 14]\n    [15 16 17 18]]]]]\n# of dimensions :  5\n"
     ]
    }
   ],
   "source": [
    "arr = np.array([\n",
    "    [[1,2,3,4],[5,6,7,8]],\n",
    "    [[11,12,13,14],[15,16,17,18]]\n",
    "], ndmin=5)\n",
    "print(arr)\n",
    "# check number of dimensions\n",
    "print(\"# of dimensions : \", arr.ndim) "
   ]
  },
  {
   "source": [
    "## Array indexing\n",
    "Indexing is used to access the elemets in the array"
   ],
   "cell_type": "markdown",
   "metadata": {}
  },
  {
   "cell_type": "code",
   "execution_count": 51,
   "metadata": {},
   "outputs": [
    {
     "output_type": "stream",
     "name": "stdout",
     "text": [
      "accessing the 1st level\n--------------------\n[[[[ 1  2  3  4]\n   [ 5  6  7  8]]\n\n  [[11 12 13 14]\n   [15 16 17 18]]]]\n--------------------\naccessing the 2nd level\n--------------------\n[[[ 1  2  3  4]\n  [ 5  6  7  8]]\n\n [[11 12 13 14]\n  [15 16 17 18]]]\n--------------------\naccessing the 3rd level\n--------------------\n[[1 2 3 4]\n [5 6 7 8]]\n--------------------\naccessing the 4th level\n--------------------\n[15 16 17 18]\n--------------------\naccessing the 5th level\n--------------------\n18\n"
     ]
    }
   ],
   "source": [
    "print('accessing the 1st level')\n",
    "print('-'*20)\n",
    "print(arr[0])\n",
    "print('-'*20)\n",
    "\n",
    "print('accessing the 2nd level')\n",
    "print('-'*20)\n",
    "print(arr[0][0])\n",
    "print('-'*20)\n",
    "\n",
    "print('accessing the 3rd level')\n",
    "print('-'*20)\n",
    "print(arr[0][0][0])\n",
    "print('-'*20)\n",
    "\n",
    "print('accessing the 4th level')\n",
    "print('-'*20)\n",
    "print(arr[0][0][1][1])\n",
    "print('-'*20)\n",
    "\n",
    "print('accessing the 5th level')\n",
    "print('-'*20)\n",
    "print(arr[0][0][1][1][3])\n",
    "\n"
   ]
  },
  {
   "source": [
    "## Array can be accessed by passing an array of indices\n",
    "\n",
    "arr\\[l,m,n,o\\] => returns the 4D array element, if its present"
   ],
   "cell_type": "markdown",
   "metadata": {}
  },
  {
   "cell_type": "code",
   "execution_count": 52,
   "metadata": {},
   "outputs": [
    {
     "output_type": "stream",
     "name": "stdout",
     "text": [
      "accessing the 1st level\n--------------------\n[[[[ 1  2  3  4]\n   [ 5  6  7  8]]\n\n  [[11 12 13 14]\n   [15 16 17 18]]]]\n--------------------\naccessing the 2nd level\n--------------------\n[[[ 1  2  3  4]\n  [ 5  6  7  8]]\n\n [[11 12 13 14]\n  [15 16 17 18]]]\n--------------------\naccessing the 3rd level\n--------------------\n[[1 2 3 4]\n [5 6 7 8]]\n--------------------\naccessing the 4th level\n--------------------\n[15 16 17 18]\n--------------------\naccessing the 5th level\n--------------------\n18\n"
     ]
    }
   ],
   "source": [
    "print('accessing the 1st level')\n",
    "print('-'*20)\n",
    "print(arr[0])\n",
    "print('-'*20)\n",
    "\n",
    "print('accessing the 2nd level')\n",
    "print('-'*20)\n",
    "print(arr[0,0])\n",
    "print('-'*20)\n",
    "\n",
    "print('accessing the 3rd level')\n",
    "print('-'*20)\n",
    "print(arr[0,0,0])\n",
    "print('-'*20)\n",
    "\n",
    "print('accessing the 4th level')\n",
    "print('-'*20)\n",
    "print(arr[0,0,1,1])\n",
    "print('-'*20)\n",
    "\n",
    "print('accessing the 5th level')\n",
    "print('-'*20)\n",
    "print(arr[0,0,1,1,3])"
   ]
  },
  {
   "source": [
    "## Negative indexing"
   ],
   "cell_type": "markdown",
   "metadata": {}
  },
  {
   "cell_type": "code",
   "execution_count": 61,
   "metadata": {},
   "outputs": [
    {
     "output_type": "stream",
     "name": "stdout",
     "text": [
      "accessing the 3rd level, last element\n--------------------\n[[11 12 13 14]\n [15 16 17 18]]\n--------------------\naccessing the 4th level, last element\n--------------------\n[15 16 17 18]\n--------------------\naccessing the 5th level, second last element of the first element at 4th level\n--------------------\n13\n--------------------\n"
     ]
    }
   ],
   "source": [
    "print('accessing the 3rd level, last element')\n",
    "print('-'*20)\n",
    "print(arr[0,0,-1])\n",
    "print('-'*20)\n",
    "\n",
    "print('accessing the 4th level, last element')\n",
    "print('-'*20)\n",
    "print(arr[0,0,-1,-1])\n",
    "print('-'*20)\n",
    "\n",
    "print('accessing the 5th level, second last element of the first element at 4th level')\n",
    "print('-'*20)\n",
    "print(arr[0,0,-1,-2,-2])\n",
    "print('-'*20)"
   ]
  },
  {
   "source": [
    "## Array slicing\n",
    "\n",
    "Slicing helps in taking elements from one index to another index\n",
    "\n",
    "e.g.\n",
    "\n",
    "arr\\[start:end\\]  \n",
    "arr\\[start:end:step\\]  \n",
    "arr\\[start:end,start,:end\\] etc.\n"
   ],
   "cell_type": "markdown",
   "metadata": {}
  },
  {
   "cell_type": "code",
   "execution_count": 80,
   "metadata": {},
   "outputs": [
    {
     "output_type": "stream",
     "name": "stdout",
     "text": [
      "[25  7 53 87 28 72 17 93 34 62]\n# of dims 1\n--------------------\nprinting elements from 2nd to 4th\n[ 7 53 87]\nprinting elements from 4nd to end\n[28 72 17 93 34 62]\nprinting elements till 7th\n[25  7 53 87 28 72 17]\n"
     ]
    }
   ],
   "source": [
    "# 1D array\n",
    "arr = np.random.randint(1,100,10)\n",
    "print(arr)\n",
    "print(\"# of dims\",arr.ndim)\n",
    "print(\"-\"*20)\n",
    "\n",
    "print(\"printing elements from 2nd to 4th\")\n",
    "print(arr[1:4])\n",
    "\n",
    "print(\"printing elements from 4nd to end\")\n",
    "print(arr[4:])\n",
    "\n",
    "print(\"printing elements till 7th\")\n",
    "print(arr[:7])"
   ]
  },
  {
   "source": [
    "## Negative slicing"
   ],
   "cell_type": "markdown",
   "metadata": {}
  },
  {
   "cell_type": "code",
   "execution_count": 89,
   "metadata": {},
   "outputs": [
    {
     "output_type": "stream",
     "name": "stdout",
     "text": [
      "[73 72 21 10  8 46 24 27 53 77]\n# of dims 1\n--------------------\nprinting 3rd last elements till 2nd last elemet\n[27 53]\n--------------------\nprinting 6th last elements till the last elemet\n[ 8 46 24 27 53 77]\n"
     ]
    }
   ],
   "source": [
    "arr = np.random.randint(1,100,10)\n",
    "print(arr)\n",
    "print(\"# of dims\",arr.ndim)\n",
    "print(\"-\"*20)\n",
    "\n",
    "\n",
    "print(\"printing 3rd last elements till 2nd last elemet\")\n",
    "print(arr[-3:-1]) \n",
    "print(\"-\"*20)\n",
    "\n",
    "print(\"printing 6th last elements till the last elemet\")\n",
    "print(arr[-6:]) "
   ]
  },
  {
   "source": [
    "## using step"
   ],
   "cell_type": "markdown",
   "metadata": {}
  },
  {
   "cell_type": "code",
   "execution_count": 92,
   "metadata": {},
   "outputs": [
    {
     "output_type": "stream",
     "name": "stdout",
     "text": [
      "[94 56 27 32 23 96 97 50 92 52]\n# of dims 1\n--------------------\nelements at the 2nd index steps\n[94 27 23 97 92]\n--------------------\nelements at the 2nd index steps from 1st till 5th element\n[94 27 23]\n--------------------\nelements at even 2nd indices steps from 1st till 5th element\n[56 32]\n--------------------\n"
     ]
    }
   ],
   "source": [
    "arr = np.random.randint(1,100,10)\n",
    "print(arr)\n",
    "print(\"# of dims\",arr.ndim)\n",
    "print(\"-\"*20)\n",
    "\n",
    "print(\"elements at the 2nd index steps\")\n",
    "print(arr[::2])\n",
    "print(\"-\"*20)\n",
    "\n",
    "print(\"elements at the 2nd index steps from 1st till 5th element\")\n",
    "print(arr[:5:2])\n",
    "print(\"-\"*20)\n",
    "\n",
    "print(\"elements at even 2nd indices steps from 1st till 5th element\")\n",
    "print(arr[1:5:2])\n",
    "print(\"-\"*20)\n"
   ]
  },
  {
   "cell_type": "code",
   "execution_count": 152,
   "metadata": {},
   "outputs": [
    {
     "output_type": "stream",
     "name": "stdout",
     "text": [
      "[[ 9 29 38 15 10]\n [80 25 64  4 45]]\n# of dims 2\n--------------------\nprinting elements from index 0 \n[[ 9 29 38 15 10]\n [80 25 64  4 45]]\n# of dims 2\n--------------------\nprinting the first element from 2D array \n[[ 9 29 38 15 10]]\n# of dims 2\n--------------------\nprinting the second elements from 2D array \n[[80 25 64  4 45]]\n# of dims 2\n--------------------\nprinting the second element of the second element from 2D array \n[[80 25 64  4 45]]\n# of dims 2\n--------------------\n"
     ]
    }
   ],
   "source": [
    "# 2D array\n",
    "arr = np.random.randint(1,100, size=(2,5))\n",
    "print(arr)\n",
    "print(\"# of dims\",arr.ndim)\n",
    "print(\"-\"*20)\n",
    "\n",
    "print(\"printing elements from index 0 \")\n",
    "print(arr[0:])\n",
    "print(\"# of dims\",arr[0:].ndim)\n",
    "print(\"-\"*20)\n",
    "\n",
    "print(\"printing the first element from 2D array \")\n",
    "print(arr[0:1])\n",
    "print(\"# of dims\",arr[0:1].ndim)\n",
    "print(\"-\"*20)\n",
    "\n",
    "print(\"printing the second elements from 2D array \")\n",
    "print(arr[1:])\n",
    "print(\"# of dims\",arr[1:].ndim)\n",
    "print(\"-\"*20)\n",
    "\n",
    "print(\"printing the second element of the second element from 2D array \")\n",
    "print(arr[1:])\n",
    "print(\"# of dims\",arr[1:,1:2].ndim)\n",
    "print(\"-\"*20)"
   ]
  },
  {
   "cell_type": "code",
   "execution_count": 154,
   "metadata": {},
   "outputs": [
    {
     "output_type": "stream",
     "name": "stdout",
     "text": [
      "[[75 10 49 17  1]\n [51 82 68 99 88]]\n# of dims 2\n--------------------\nprinting the 3rd and 4th elements from all rows of 2D array\n[[49 17]\n [68 99]]\n# of dims 2\n--------------------\nprinting the 3rd and 4th elements from the second row of 2D array\n[[68]]\n# of dims 2\n--------------------\n"
     ]
    }
   ],
   "source": [
    "# 2D array\n",
    "arr = np.random.randint(1,100, size=(2,5))\n",
    "print(arr)\n",
    "print(\"# of dims\",arr.ndim)\n",
    "print(\"-\"*20)\n",
    "\n",
    "\n",
    "print(\"printing the 3rd and 4th elements from all rows of 2D array\")\n",
    "print(arr[0:,2:4])\n",
    "print(\"# of dims\",arr[0:,2:4].ndim)\n",
    "print(\"-\"*20)\n",
    "\n",
    "\n",
    "print(\"printing the 3rd and 4th elements from the second row of 2D array\")\n",
    "print(arr[1:2,2:3])\n",
    "print(\"# of dims\",arr[1:2,2:3].ndim)\n",
    "print(\"-\"*20)\n"
   ]
  },
  {
   "cell_type": "code",
   "execution_count": 164,
   "metadata": {},
   "outputs": [
    {
     "output_type": "stream",
     "name": "stdout",
     "text": [
      "3 dimentional array, with 2 rows and 3 elements\n[[[2 4 4]\n  [4 6 5]]\n\n [[4 6 3]\n  [6 8 3]]\n\n [[2 7 1]\n  [6 7 6]]]\n# of dims 3\n--------------------\n3 dimentional array, with 5 rows and 7 elements\n[[[66 50 84 99 78 45 55]\n  [21 10 19 50  2 67 21]\n  [81 70 71 13 51 15 46]\n  [25 60 64 48 84 49 91]\n  [12 11 62 59 22  5 91]]\n\n [[52 15 81 17  2  5 88]\n  [ 2 23  6 77 91 74 54]\n  [21 36 32 96 92 17 25]\n  [ 1 70 54 68 48 46 72]\n  [55 62 27 27 85 77 62]]\n\n [[56 55  2 69 43 75  2]\n  [59 94 49  7 93 65 49]\n  [69 89 13 99 55 71 57]\n  [52 28 72 26 70  7 32]\n  [29 40  4 32 93  2 85]]]\n# of dims 3\n--------------------\n"
     ]
    }
   ],
   "source": [
    "# 3D array\n",
    "print(\"3 dimentional array, with 2 rows and 3 elements\")\n",
    "arr = np.random.randint(1,10, size=(3,2,3)) \n",
    "print(arr)\n",
    "print(\"# of dims\",arr.ndim)\n",
    "print(\"-\"*20)\n",
    "\n",
    "\n",
    "print(\"3 dimentional array, with 5 rows and 7 elements\")\n",
    "arr = np.random.randint(1,100, size=(3,5,7)) \n",
    "print(arr)\n",
    "print(\"# of dims\",arr.ndim)\n",
    "print(\"-\"*20)"
   ]
  },
  {
   "cell_type": "code",
   "execution_count": 165,
   "metadata": {},
   "outputs": [
    {
     "output_type": "stream",
     "name": "stdout",
     "text": [
      "the first item in the 3D array using simple index gives 1D array\n[[66 50 84 99 78 45 55]\n [21 10 19 50  2 67 21]\n [81 70 71 13 51 15 46]\n [25 60 64 48 84 49 91]\n [12 11 62 59 22  5 91]]\n# of dims 2\n--------------------\nthe first item in the 3D array, using slice gives 3D array\n[[[66 50 84 99 78 45 55]\n  [21 10 19 50  2 67 21]\n  [81 70 71 13 51 15 46]\n  [25 60 64 48 84 49 91]\n  [12 11 62 59 22  5 91]]]\n# of dims 3\n--------------------\n"
     ]
    }
   ],
   "source": [
    "print(\"the first item in the 3D array using simple index gives 1D array\")\n",
    "print(arr[0])\n",
    "print(\"# of dims\",arr[0].ndim)\n",
    "print(\"-\"*20)\n",
    "\n",
    "print(\"the first item in the 3D array, using slice gives 3D array\")\n",
    "print(arr[0:1])\n",
    "print(\"# of dims\",arr[0:1].ndim)\n",
    "print(\"-\"*20)"
   ]
  },
  {
   "cell_type": "code",
   "execution_count": 169,
   "metadata": {},
   "outputs": [
    {
     "output_type": "stream",
     "name": "stdout",
     "text": [
      "the second element in 3D array\n[[[52 15 81 17  2  5 88]\n  [ 2 23  6 77 91 74 54]\n  [21 36 32 96 92 17 25]\n  [ 1 70 54 68 48 46 72]\n  [55 62 27 27 85 77 62]]]\n# of dims 3\n--------------------\n"
     ]
    }
   ],
   "source": [
    "print(\"the second element in 3D array\")\n",
    "print(arr[1:2])\n",
    "print(\"# of dims\",arr[0:1].ndim)\n",
    "print(\"-\"*20)"
   ]
  },
  {
   "cell_type": "code",
   "execution_count": 172,
   "metadata": {},
   "outputs": [
    {
     "output_type": "stream",
     "name": "stdout",
     "text": [
      "the 3rd and 4th element from the second element in 3D array\n[[[21 36 32 96 92 17 25]\n  [ 1 70 54 68 48 46 72]]]\n# of dims 3\n--------------------\n"
     ]
    }
   ],
   "source": [
    "print(\"the 3rd and 4th element from the second element in 3D array\")\n",
    "print(arr[1:2,2:4])\n",
    "print(\"# of dims\",arr[1:2,2:4].ndim)\n",
    "print(\"-\"*20)"
   ]
  },
  {
   "cell_type": "code",
   "execution_count": 182,
   "metadata": {},
   "outputs": [
    {
     "output_type": "stream",
     "name": "stdout",
     "text": [
      "the 6th element from the 3rd and 4th element from the second element in 3D array\n[[[25]\n  [72]]]\n# of dims 3\n--------------------\nthe 6th element from the 5th element from the second element in 3D array\n[[[77]]]\n# of dims 3\n--------------------\n"
     ]
    }
   ],
   "source": [
    "print(\"the 6th element from the 3rd and 4th element from the second element in 3D array\")\n",
    "print(arr[1:2,2:4,6:7])\n",
    "print(\"# of dims\",arr[1:2,2:4, 6:7].ndim)\n",
    "print(\"-\"*20)\n",
    "\n",
    "print(\"the 6th element, from the 5th element from the second element in 3D array\")\n",
    "\n",
    "\"\"\"\n",
    "1. 1:2 idexes the 2nd element of 3D array \n",
    "2. 4:5 indexes the 5th element of the array obtained as a result of step 1\n",
    "3. 5:6 indexes the 6th element of the array obtained as a result of step 2\n",
    "\"\"\"\n",
    "print(arr[1:2,4:5,5:6]) \n",
    "print(\"# of dims\",arr[1:2, 4:5, 5:6].ndim)\n",
    "print(\"-\"*20)"
   ]
  },
  {
   "source": [
    "## Data types\n",
    "\n",
    "Below is a list of all data types in NumPy and the characters used to represent them.\n",
    "\n",
    "    i - integer\n",
    "    b - boolean\n",
    "    u - unsigned integer\n",
    "    f - float\n",
    "    c - complex float\n",
    "    m - timedelta\n",
    "    M - datetime\n",
    "    O - object\n",
    "    S - string\n",
    "    U - unicode string\n",
    "    V - fixed chunk of memory for other type ( void )\n"
   ],
   "cell_type": "markdown",
   "metadata": {}
  },
  {
   "cell_type": "code",
   "execution_count": 189,
   "metadata": {},
   "outputs": [
    {
     "output_type": "stream",
     "name": "stdout",
     "text": [
      "[1 2 3 4]\ndatatype is :  int64\n--------------------\n['apple' 'banana' 'mango' 'peach']\ndatatype is :  <U6\n--------------------\nwith a defined datatype\n[b'1' b'2' b'3' b'4']\ndatatype is :  |S1\n--------------------\n"
     ]
    }
   ],
   "source": [
    "arr = np.array([1, 2, 3, 4])\n",
    "print(arr)\n",
    "print(\"datatype is : \",arr.dtype) \n",
    "print(\"-\"*20)\n",
    "\n",
    "arr = np.array([\"apple\", 'banana', 'mango', 'peach'])\n",
    "print(arr)\n",
    "print(\"datatype is : \",arr.dtype) \n",
    "print(\"-\"*20)\n",
    "\n",
    "print(\"with a defined datatype\")\n",
    "arr = np.array([1,2,3,4], dtype=\"S\")\n",
    "print(arr)\n",
    "print(\"datatype is : \",arr.dtype) \n",
    "print(\"-\"*20)"
   ]
  },
  {
   "source": [
    "For i, u, f, S and U we can define size as well."
   ],
   "cell_type": "markdown",
   "metadata": {}
  },
  {
   "cell_type": "code",
   "execution_count": 195,
   "metadata": {},
   "outputs": [
    {
     "output_type": "stream",
     "name": "stdout",
     "text": [
      "[1 2 3 4]\nint32\n--------------------\n[1 2 3 4]\nint64\n--------------------\n"
     ]
    }
   ],
   "source": [
    "arr = np.array([1, 2, 3, 4], dtype='i4')\n",
    "print(arr)\n",
    "print(arr.dtype) \n",
    "print(\"-\"*20)\n",
    "\n",
    "arr = np.array([1, 2, 3, 4], dtype='i8')\n",
    "print(arr)\n",
    "print(arr.dtype) \n",
    "print(\"-\"*20)"
   ]
  },
  {
   "source": [
    "## Converting datatype of existing array"
   ],
   "cell_type": "markdown",
   "metadata": {}
  },
  {
   "cell_type": "code",
   "execution_count": 200,
   "metadata": {},
   "outputs": [
    {
     "output_type": "stream",
     "name": "stdout",
     "text": [
      "Original array :  [1.1 2.1 3.1]\nfloat64\n--------------------\nNew array [1 2 3]\nint32\n--------------------\n"
     ]
    }
   ],
   "source": [
    "arr = np.array([1.1, 2.1, 3.1])\n",
    "print('Original array : ',arr)\n",
    "print(arr.dtype) \n",
    "print('-'*20)\n",
    "\n",
    "newarr = arr.astype('i')\n",
    "\n",
    "print('New array',newarr)\n",
    "print(newarr.dtype) \n",
    "print('-'*20)"
   ]
  },
  {
   "cell_type": "code",
   "execution_count": 201,
   "metadata": {},
   "outputs": [
    {
     "output_type": "stream",
     "name": "stdout",
     "text": [
      "Original array :  [1.1 2.1 3.1]\nfloat64\n--------------------\nNew array [1 2 3]\nint64\n--------------------\n"
     ]
    }
   ],
   "source": [
    "arr = np.array([1.1, 2.1, 3.1])\n",
    "print('Original array : ',arr)\n",
    "print(arr.dtype) \n",
    "print('-'*20)\n",
    "\n",
    "newarr = arr.astype(int)\n",
    "\n",
    "print('New array',newarr)\n",
    "print(newarr.dtype) \n",
    "print('-'*20)"
   ]
  },
  {
   "cell_type": "code",
   "execution_count": 203,
   "metadata": {},
   "outputs": [
    {
     "output_type": "stream",
     "name": "stdout",
     "text": [
      "Original array :  [1.1 2.1 0. ]\nfloat64\n--------------------\nNew array [ True  True False]\nbool\n--------------------\n"
     ]
    }
   ],
   "source": [
    "arr = np.array([1.1, 2.1, 0.0])\n",
    "print('Original array : ',arr)\n",
    "print(arr.dtype) \n",
    "print('-'*20)\n",
    "\n",
    "newarr = arr.astype(bool)\n",
    "\n",
    "print('New array',newarr)\n",
    "print(newarr.dtype) \n",
    "print('-'*20)"
   ]
  },
  {
   "cell_type": "code",
   "execution_count": 204,
   "metadata": {},
   "outputs": [
    {
     "output_type": "stream",
     "name": "stdout",
     "text": [
      "Original array :  [1.1 2.1 0. ]\nfloat64\n--------------------\nNew array ['1.1' '2.1' '0.0']\n<U32\n--------------------\n"
     ]
    }
   ],
   "source": [
    "arr = np.array([1.1, 2.1, 0.0])\n",
    "print('Original array : ',arr)\n",
    "print(arr.dtype) \n",
    "print('-'*20)\n",
    "\n",
    "newarr = arr.astype(str)\n",
    "\n",
    "print('New array',newarr)\n",
    "print(newarr.dtype) \n",
    "print('-'*20)"
   ]
  },
  {
   "source": [
    "## Copy vs View"
   ],
   "cell_type": "markdown",
   "metadata": {}
  },
  {
   "cell_type": "code",
   "execution_count": 212,
   "metadata": {},
   "outputs": [
    {
     "output_type": "stream",
     "name": "stdout",
     "text": [
      "changing the element at index 0 of the original array has no effect on copy\n--------------------\narr before changing the element : [1 2 3 4 5]\narr : [42  2  3  4  5]\nx   : [1 2 3 4 5]\n"
     ]
    }
   ],
   "source": [
    "print(\"changing the element at index 0 of the original array has no effect on copy\")\n",
    "print(\"-\"*20)\n",
    "\n",
    "arr = np.array([1, 2, 3, 4, 5])\n",
    "print(\"arr before changing the element :\",arr)\n",
    "x = arr.copy()\n",
    "arr[0] = 42\n",
    "\n",
    "print(\"arr :\",arr)\n",
    "print(\"x   :\",x) "
   ]
  },
  {
   "cell_type": "code",
   "execution_count": 213,
   "metadata": {},
   "outputs": [
    {
     "output_type": "stream",
     "name": "stdout",
     "text": [
      "changing the element at index 0 of the original array has effect on view\n--------------------\narr before changing the element : [1 2 3 4 5]\narr : [42  2  3  4  5]\nx   : [42  2  3  4  5]\n"
     ]
    }
   ],
   "source": [
    "print(\"changing the element at index 0 of the original array has effect on view\")\n",
    "print(\"-\"*20)\n",
    "\n",
    "arr = np.array([1, 2, 3, 4, 5])\n",
    "print(\"arr before changing the element :\",arr)\n",
    "x = arr.view()\n",
    "arr[0] = 42\n",
    "\n",
    "print(\"arr :\",arr)\n",
    "print(\"x   :\",x) "
   ]
  },
  {
   "source": [
    "### Every NumPy array has the attribute `base` that returns None if the array owns the data.\n",
    "\n"
   ],
   "cell_type": "markdown",
   "metadata": {}
  },
  {
   "cell_type": "code",
   "execution_count": 218,
   "metadata": {},
   "outputs": [
    {
     "output_type": "stream",
     "name": "stdout",
     "text": [
      "base for copy :  None\nbase for view :  [1 2 3 4 5] , => returns the original array\n"
     ]
    }
   ],
   "source": [
    "arr = np.array([1, 2, 3, 4, 5])\n",
    "\n",
    "x = arr.copy()\n",
    "y = arr.view()\n",
    "\n",
    "print(\"base for copy : \",x.base)\n",
    "print(\"base for view : \",y.base , \", => returns the original array\") "
   ]
  },
  {
   "source": [
    "## Shape"
   ],
   "cell_type": "markdown",
   "metadata": {}
  },
  {
   "cell_type": "code",
   "execution_count": 222,
   "metadata": {},
   "outputs": [
    {
     "output_type": "stream",
     "name": "stdout",
     "text": [
      "3 dimentional array, with 5 rows and 7 elements\n[[[19 97 83 44 30  2 25]\n  [12 69  4 95 47 48 30]\n  [ 5 98 42 50 15  7 63]\n  [89 68 54 75 98 99 48]\n  [62 92 96 21 67 12 57]]\n\n [[52 71 58 29  7 33 22]\n  [87 98 73  3  5 44 62]\n  [14  4 32 61 43 57 83]\n  [ 4 54 36 40 55 17 49]\n  [35 85 85 41  9 47 76]]\n\n [[93 94 47 58 74 54 39]\n  [85 73 31 20 41 10 72]\n  [80 84 82 81 94  8 58]\n  [34  3 64  8 22  7 59]\n  [92 28 57 30 19 87 31]]]\n# of dims 3\nShape of the array is :  (3, 5, 7)\nSize of the array is :  105\n--------------------\n"
     ]
    }
   ],
   "source": [
    "print(\"3 dimentional array, with 5 rows and 7 elements\")\n",
    "arr = np.random.randint(1,100, size=(3,5,7)) \n",
    "print(arr)\n",
    "print(\"# of dims\",arr.ndim)\n",
    "print(\"Shape of the array is : \", arr.shape)\n",
    "print(\"Size of the array is : \", arr.size)\n",
    "print(\"-\"*20)"
   ]
  },
  {
   "source": [
    "## Reshape"
   ],
   "cell_type": "markdown",
   "metadata": {}
  },
  {
   "cell_type": "code",
   "execution_count": 240,
   "metadata": {},
   "outputs": [
    {
     "output_type": "stream",
     "name": "stdout",
     "text": [
      "3 dimentional array, with 4 rows and 2 elements\n[[[50 21]\n  [72 80]\n  [20 79]\n  [12 45]]\n\n [[46 93]\n  [77  8]\n  [50 85]\n  [68 46]]\n\n [[99  8]\n  [88 42]\n  [49 23]\n  [ 6 92]]]\n# of dims 3\nShape of the array is :  (3, 4, 2)\nSize of the array is :  24\n--------------------\nReshaping array to 4 dimentional array, with 2 rows of 3, 2D arrays\n[[[[50 21]\n   [72 80]]\n\n  [[20 79]\n   [12 45]]\n\n  [[46 93]\n   [77  8]]]\n\n\n [[[50 85]\n   [68 46]]\n\n  [[99  8]\n   [88 42]]\n\n  [[49 23]\n   [ 6 92]]]]\n# of dims in newarr 4\nShape of the newarr is :  (2, 3, 2, 2)\nSize of the newarr is :  24\n--------------------\n"
     ]
    }
   ],
   "source": [
    "print(\"3 dimentional array, with 4 rows and 2 elements\")\n",
    "arr = np.random.randint(1,100, size=(3,4,2)) \n",
    "print(arr)\n",
    "print(\"# of dims\",arr.ndim)\n",
    "print(\"Shape of the array is : \", arr.shape)\n",
    "print(\"Size of the array is : \", arr.size)\n",
    "print(\"-\"*20)\n",
    "\n",
    "print(\"Reshaping array to 4 dimentional array, with 2 rows of 3, 2D arrays\")\n",
    "\"\"\"\n",
    "4th dimension has 2 3D arrays\n",
    "3rd dimesion has 3 2D arrays\n",
    "2nd dimension has 2 arrays with 2 elements each\n",
    "1st dimention has 2 elements \n",
    "\"\"\"\n",
    "newarr = arr.reshape(2,3,2,2) # should be equal to dimension\n",
    "print(newarr)\n",
    "print(\"# of dims in newarr\",newarr.ndim)\n",
    "print(\"Shape of the newarr is : \", newarr.shape) # why this is not changing?\n",
    "print(\"Size of the newarr is : \", newarr.size)\n",
    "print(\"-\"*20)"
   ]
  },
  {
   "cell_type": "code",
   "execution_count": 241,
   "metadata": {},
   "outputs": [
    {
     "output_type": "stream",
     "name": "stdout",
     "text": [
      "[[[[50]\n   [21]]\n\n  [[72]\n   [80]]]\n\n\n [[[20]\n   [79]]\n\n  [[12]\n   [45]]]\n\n\n [[[46]\n   [93]]\n\n  [[77]\n   [ 8]]]\n\n\n [[[50]\n   [85]]\n\n  [[68]\n   [46]]]\n\n\n [[[99]\n   [ 8]]\n\n  [[88]\n   [42]]]\n\n\n [[[49]\n   [23]]\n\n  [[ 6]\n   [92]]]]\n# of dims in newarr 4\nShape of the newarr is :  (6, 2, 2, 1)\nSize of the newarr is :  24\n--------------------\n"
     ]
    }
   ],
   "source": [
    "# can reshape only to same size array\n",
    "\n",
    "# Unknown dimension\n",
    "# Note: We can not pass -1 to more than one dimension.\n",
    "\n",
    "\"\"\"\n",
    "4th dimension has 6 3D arrays\n",
    "3rd dimesion has 2 2D arrays\n",
    "2nd dimension has 2 arrays with 1 elements each\n",
    "1st dimention has 1 elements \n",
    "\"\"\"\n",
    "newarr = arr.reshape(-1,2,2,1) # should be equal to dimension, 4 in this case as we want 4D array\n",
    "print(newarr)\n",
    "print(\"# of dims in newarr\",newarr.ndim)\n",
    "print(\"Shape of the newarr is : \", newarr.shape)\n",
    "print(\"Size of the newarr is : \", newarr.size)\n",
    "print(\"-\"*20)\n"
   ]
  },
  {
   "source": [
    "## Flattening the arrays"
   ],
   "cell_type": "markdown",
   "metadata": {}
  },
  {
   "cell_type": "code",
   "execution_count": 242,
   "metadata": {},
   "outputs": [
    {
     "output_type": "stream",
     "name": "stdout",
     "text": [
      "[50 21 72 80 20 79 12 45 46 93 77  8 50 85 68 46 99  8 88 42 49 23  6 92]\n# of dims in flatarr 1\nShape of the flatarr is :  (24,)\nSize of the flatarr is :  24\n--------------------\n"
     ]
    }
   ],
   "source": [
    "flatarr = newarr.reshape(-1)\n",
    "print(flatarr)\n",
    "print(\"# of dims in flatarr\",flatarr.ndim)\n",
    "print(\"Shape of the flatarr is : \", flatarr.shape)\n",
    "print(\"Size of the flatarr is : \", flatarr.size)\n",
    "print(\"-\"*20)\n"
   ]
  },
  {
   "source": [
    "**Note:** There are a lot of functions for changing the shapes of arrays in numpy `flatten`, `ravel` and also for rearranging the elements `rot90`, `flip`, `fliplr`, `flipud` etc. These fall under Intermediate to Advanced section of numpy."
   ],
   "cell_type": "markdown",
   "metadata": {}
  },
  {
   "cell_type": "code",
   "execution_count": 248,
   "metadata": {},
   "outputs": [
    {
     "output_type": "stream",
     "name": "stdout",
     "text": [
      "flatten [50 21 72 80 20 79 12 45 46 93 77  8 50 85 68 46 99  8 88 42 49 23  6 92]\nravel   [50 21 72 80 20 79 12 45 46 93 77  8 50 85 68 46 99  8 88 42 49 23  6 92]\n"
     ]
    }
   ],
   "source": [
    "print(\"flatten\", newarr.flatten())\n",
    "print(\"ravel  \", newarr.ravel())"
   ]
  },
  {
   "source": [
    "## Iterating"
   ],
   "cell_type": "markdown",
   "metadata": {}
  },
  {
   "cell_type": "code",
   "execution_count": 250,
   "metadata": {},
   "outputs": [
    {
     "output_type": "stream",
     "name": "stdout",
     "text": [
      "28\n84\n61\n91\n85\n82\n32\n41\n44\n60\n"
     ]
    }
   ],
   "source": [
    "# 1D array\n",
    "arr = np.random.randint(1,100,10)\n",
    "for i in arr:\n",
    "    print(i)"
   ]
  },
  {
   "cell_type": "code",
   "execution_count": 254,
   "metadata": {},
   "outputs": [
    {
     "output_type": "stream",
     "name": "stdout",
     "text": [
      "row-0 :  [18 82  8 70 34]\nrow-1 :  [92 50 92 98 29]\nrow-2 :  [77  2 17 24 44]\n"
     ]
    }
   ],
   "source": [
    "# 2D array\n",
    "arr = np.random.randint(1,100, size=(3,5))\n",
    "for k,v in enumerate(arr):\n",
    "    print(\"row-\"+str(k)+\" : \",v)"
   ]
  },
  {
   "cell_type": "code",
   "execution_count": 259,
   "metadata": {},
   "outputs": [
    {
     "output_type": "stream",
     "name": "stdout",
     "text": [
      "row-0 : \n [[19 42]\n [73 21]\n [97 85]\n [ 5 35]\n [ 6 31]]\n--------------------\nrow-0,0 :  [19 42]\nrow-0,1 :  [73 21]\nrow-0,2 :  [97 85]\nrow-0,3 :  [ 5 35]\nrow-0,4 :  [ 6 31]\n====================\nrow-1 : \n [[20 99]\n [ 2 79]\n [91 81]\n [90 92]\n [22 44]]\n--------------------\nrow-1,0 :  [20 99]\nrow-1,1 :  [ 2 79]\nrow-1,2 :  [91 81]\nrow-1,3 :  [90 92]\nrow-1,4 :  [22 44]\n====================\nrow-2 : \n [[82 52]\n [53 18]\n [12 30]\n [86 97]\n [ 8 11]]\n--------------------\nrow-2,0 :  [82 52]\nrow-2,1 :  [53 18]\nrow-2,2 :  [12 30]\nrow-2,3 :  [86 97]\nrow-2,4 :  [ 8 11]\n====================\n"
     ]
    }
   ],
   "source": [
    "# 3D array\n",
    "arr = np.random.randint(1,100, size=(3,5,2))\n",
    "for i,x in enumerate(arr):\n",
    "    print(\"row-\"+str(i)+\" : \\n\",x)\n",
    "    print(\"-\"*20)\n",
    "    for j,y in enumerate(x):\n",
    "        print(\"row-\"+str(i)+\",\"+str(j)+\" : \",y)\n",
    "    print(\"=\"*20)"
   ]
  },
  {
   "cell_type": "code",
   "execution_count": 275,
   "metadata": {},
   "outputs": [
    {
     "output_type": "stream",
     "name": "stdout",
     "text": [
      "4D row-0 : \n [[[69 57 18 87]\n  [85 86 50 43]\n  [42 11 14  8]]]\n--------------------\n3D row-0,0 : \n [[69 57 18 87]\n [85 86 50 43]\n [42 11 14  8]]\n2D row-0,0,0 :  [69 57 18 87]\n1D row-0,0,0,0 :  69\n1D row-0,0,0,1 :  57\n1D row-0,0,0,2 :  18\n1D row-0,0,0,3 :  87\n====================\n2D row-0,0,1 :  [85 86 50 43]\n1D row-0,0,1,0 :  85\n1D row-0,0,1,1 :  86\n1D row-0,0,1,2 :  50\n1D row-0,0,1,3 :  43\n====================\n2D row-0,0,2 :  [42 11 14  8]\n1D row-0,0,2,0 :  42\n1D row-0,0,2,1 :  11\n1D row-0,0,2,2 :  14\n1D row-0,0,2,3 :  8\n====================\n4D row-1 : \n [[[64 85  2 23]\n  [14 68 65 39]\n  [ 2  7  4 33]]]\n--------------------\n3D row-1,0 : \n [[64 85  2 23]\n [14 68 65 39]\n [ 2  7  4 33]]\n2D row-1,0,0 :  [64 85  2 23]\n1D row-1,0,0,0 :  64\n1D row-1,0,0,1 :  85\n1D row-1,0,0,2 :  2\n1D row-1,0,0,3 :  23\n====================\n2D row-1,0,1 :  [14 68 65 39]\n1D row-1,0,1,0 :  14\n1D row-1,0,1,1 :  68\n1D row-1,0,1,2 :  65\n1D row-1,0,1,3 :  39\n====================\n2D row-1,0,2 :  [ 2  7  4 33]\n1D row-1,0,2,0 :  2\n1D row-1,0,2,1 :  7\n1D row-1,0,2,2 :  4\n1D row-1,0,2,3 :  33\n====================\n"
     ]
    }
   ],
   "source": [
    "# 4D array\n",
    "arr = np.random.randint(1,100, size=(2,1,3,4))\n",
    "for i,x in enumerate(arr):\n",
    "    print(\"4D row-\"+str(i)+\" : \\n\",x)\n",
    "    print(\"-\"*20)\n",
    "    for j,y in enumerate(x):\n",
    "        print(\"3D row-\"+str(i)+\",\"+str(j)+\" : \\n\",y)\n",
    "        for k,z in enumerate(y):\n",
    "            print(\"2D row-\"+str(i)+\",\"+str(j)+\",\"+str(k)+\" : \",z)\n",
    "            for l,a in enumerate(z):\n",
    "                print(\"1D row-\"+str(i)+\",\"+str(j)+\",\"+str(k)+\",\"+str(l)+\" : \",a)\n",
    "            print(\"=\"*20)"
   ]
  },
  {
   "source": [
    "## Iterating Arrays Using `nditer()`\n",
    "\n",
    "The function nditer() is a helping function that can be used from very basic to very advanced iterations. "
   ],
   "cell_type": "markdown",
   "metadata": {}
  },
  {
   "cell_type": "code",
   "execution_count": 278,
   "metadata": {},
   "outputs": [
    {
     "output_type": "stream",
     "name": "stdout",
     "text": [
      "1\n2\n3\n4\n5\n6\n7\n8\n"
     ]
    }
   ],
   "source": [
    "# 3D array\n",
    "arr = np.array([[[1, 2], [3, 4]], [[5, 6], [7, 8]]])\n",
    "\n",
    "# prints each element in the nd array\n",
    "for x in np.nditer(arr):\n",
    "  print(x) "
   ]
  },
  {
   "source": [
    "## Iterating Array With Different Data Types\n",
    "\n",
    "We can use `op_dtypes` argument and pass it the expected datatype to change the datatype of elements while iterating.\n",
    "\n",
    "NumPy does not change the data type of the element in-place (where the element is in array) so it needs some other space to perform this action, that extra space is called buffer, and in order to enable it in `nditer()` we pass `flags=['buffered']`."
   ],
   "cell_type": "markdown",
   "metadata": {}
  },
  {
   "cell_type": "code",
   "execution_count": 284,
   "metadata": {},
   "outputs": [
    {
     "output_type": "stream",
     "name": "stdout",
     "text": [
      "b'95'\nb'81'\nb'50'\nb'98'\nb'97'\nb'27'\nb'34'\nb'70'\n"
     ]
    }
   ],
   "source": [
    "# 3D array\n",
    "arr = np.random.randint(1,100, size=(2,2,2))\n",
    "\n",
    "for i in np.nditer(arr, op_dtypes=['S'], flags=['buffered']):\n",
    "    print(i)"
   ]
  },
  {
   "source": [
    "## nditer step size\n",
    "\n"
   ],
   "cell_type": "markdown",
   "metadata": {}
  },
  {
   "cell_type": "code",
   "execution_count": 303,
   "metadata": {},
   "outputs": [
    {
     "output_type": "stream",
     "name": "stdout",
     "text": [
      "[[[19 99  4 24 42 89 27 34]\n  [99 99 29 66 58 94 85 26]\n  [52 36  9 58 16 90 87 13]]\n\n [[36  8 11 85 25  6 95 96]\n  [58 92 36 81 87 12 39 43]\n  [32 57 25 23 99 65 90 33]]\n\n [[69  4 72  6 80 34 17 79]\n  [76 24 15 52 51 81 39 31]\n  [69 76  6 16 59 16 54 32]]\n\n [[77 51 97 65 85 79 67 67]\n  [93 66 82 32 74 30 68 20]\n  [43 75 22 89 78 28 10 24]]\n\n [[39 91 77  7 11 28 26 16]\n  [ 7 96  8 89 84 20 76 98]\n  [13 81 51 45 82 37 20 23]]]\n--------------------\n[[[85 96]\n  [23 33]]\n\n [[65 67]\n  [89 24]]]\n85\n96\n23\n33\n65\n67\n89\n24\n"
     ]
    }
   ],
   "source": [
    "# 3D array\n",
    "arr = np.random.randint(1,100, size=(5,3,8))\n",
    "\n",
    "print(arr)\n",
    "print('-'*20)\n",
    "print(arr[1:5:2, ::2,3::4])\n",
    "\n",
    "\"\"\"\n",
    "1. identify the rows from 3D array, 1:5:2 => every other row starting from 2nd element, (index 1 and 3)\n",
    "2. get row at index 0 and 2 from array at index 1 and 3 from prev step\n",
    "3. get every 4th element, starting form index 3 from prev step result\n",
    "\"\"\"\n",
    "for x in np.nditer(arr[1:5:2, ::2,3::4]):\n",
    "  print(x) \n"
   ]
  },
  {
   "source": [
    "## Enumerated Iteration Using `ndenumerate()`"
   ],
   "cell_type": "markdown",
   "metadata": {}
  },
  {
   "cell_type": "code",
   "execution_count": 304,
   "metadata": {},
   "outputs": [
    {
     "output_type": "stream",
     "name": "stdout",
     "text": [
      "(0, 0) 1\n(0, 1) 2\n(0, 2) 3\n(0, 3) 4\n(1, 0) 5\n(1, 1) 6\n(1, 2) 7\n(1, 3) 8\n"
     ]
    }
   ],
   "source": [
    "arr = np.array([[1, 2, 3, 4], [5, 6, 7, 8]])\n",
    "for idx, x in np.ndenumerate(arr):\n",
    "  print(idx, x) "
   ]
  },
  {
   "cell_type": "code",
   "execution_count": 305,
   "metadata": {},
   "outputs": [
    {
     "output_type": "stream",
     "name": "stdout",
     "text": [
      "(0, 0, 0) 92\n(0, 0, 1) 56\n(0, 1, 0) 88\n(0, 1, 1) 1\n(0, 2, 0) 42\n(0, 2, 1) 71\n(0, 3, 0) 79\n(0, 3, 1) 18\n(0, 4, 0) 84\n(0, 4, 1) 31\n(1, 0, 0) 71\n(1, 0, 1) 20\n(1, 1, 0) 13\n(1, 1, 1) 43\n(1, 2, 0) 21\n(1, 2, 1) 13\n(1, 3, 0) 51\n(1, 3, 1) 17\n(1, 4, 0) 15\n(1, 4, 1) 11\n(2, 0, 0) 4\n(2, 0, 1) 98\n(2, 1, 0) 78\n(2, 1, 1) 57\n(2, 2, 0) 1\n(2, 2, 1) 13\n(2, 3, 0) 60\n(2, 3, 1) 95\n(2, 4, 0) 54\n(2, 4, 1) 67\n(3, 0, 0) 95\n(3, 0, 1) 44\n(3, 1, 0) 69\n(3, 1, 1) 88\n(3, 2, 0) 58\n(3, 2, 1) 30\n(3, 3, 0) 97\n(3, 3, 1) 13\n(3, 4, 0) 95\n(3, 4, 1) 79\n"
     ]
    }
   ],
   "source": [
    "arr  = np.random.randint(1,100,size=(4,5,2))\n",
    "for idx,x in np.ndenumerate(arr):\n",
    "    print(idx,x)"
   ]
  },
  {
   "source": [
    "## Joining NumPy Arrays\n",
    "\n",
    "Joining means putting contents of two or more arrays in a single array.  \n",
    "In SQL we join tables based on a key, whereas in NumPy we join arrays by axes.  \n",
    "axis = 0 => rows  \n",
    "axis = 1 => cols  \n",
    "\n",
    "    - concatinate\n",
    "    - stack\n",
    "        - hstack\n",
    "        - vstack\n",
    "        - dstack\n",
    "    \n"
   ],
   "cell_type": "markdown",
   "metadata": {}
  },
  {
   "cell_type": "code",
   "execution_count": 306,
   "metadata": {},
   "outputs": [
    {
     "output_type": "stream",
     "name": "stdout",
     "text": [
      "[11 29 25 27 32 60 20 36 78 41]\n[99 80 40 89 99 23 88 72 21 23]\n[11 29 25 27 32 60 20 36 78 41 99 80 40 89 99 23 88 72 21 23]\n"
     ]
    }
   ],
   "source": [
    "# 1D concatination\n",
    "arr1 = np.random.randint(1,100,size=(10))\n",
    "arr2 = np.random.randint(1,100,size=(10))\n",
    "\n",
    "arr = np.concatenate((arr1,arr2))\n",
    "\n",
    "print(arr1)\n",
    "print(arr2)\n",
    "print(arr)"
   ]
  },
  {
   "cell_type": "code",
   "execution_count": 314,
   "metadata": {},
   "outputs": [
    {
     "output_type": "stream",
     "name": "stdout",
     "text": [
      "[[55 30 12 76 24 74 19 41 59 40]\n [ 4 50 56 39 31 84 14 28  8 55]\n [71 95  8 62 16 96 97 44 99 61]]\n--------------------\n[[19]\n [91]\n [69]]\n--------------------\n[[55 30 12 76 24 74 19 41 59 40 19]\n [ 4 50 56 39 31 84 14 28  8 55 91]\n [71 95  8 62 16 96 97 44 99 61 69]]\n"
     ]
    }
   ],
   "source": [
    "# 2D concatination\n",
    "arr1 = np.random.randint(1,100,size=(3,10))\n",
    "arr2 = np.random.randint(1,100,size=(3,1))# just 1 col but same number of rows\n",
    "# arr2 = np.random.randint(1,100,size=(4,1))# just 1 col but different number of rows, this does not work in case of axis 1, will work for axis = 0\n",
    "\n",
    "# with axis = 1\n",
    "arr = np.concatenate((arr1,arr2), axis=1)\n",
    "\n",
    "print(arr1)\n",
    "print(\"-\"*20)\n",
    "print(arr2)\n",
    "print(\"-\"*20)\n",
    "print(arr)"
   ]
  },
  {
   "source": [
    "## Stack"
   ],
   "cell_type": "markdown",
   "metadata": {}
  },
  {
   "cell_type": "code",
   "execution_count": 320,
   "metadata": {},
   "outputs": [
    {
     "output_type": "stream",
     "name": "stdout",
     "text": [
      "[[47 10 37 38 13 33  2]\n [46 42 14 21 45 15  1]\n [20 14 13  8 22  7 25]]\n--------------------\n[[48 17 39 31 15  9 45]\n [31 47 24 26 15 14 46]\n [42  1 17 43 27 27 21]]\n--------------------\nthis puts arr1 on top of arr2 and creates 3D array as arr1 and arr2 are 2D arrays, has 2 rows\n[[[47 10 37 38 13 33  2]\n  [46 42 14 21 45 15  1]\n  [20 14 13  8 22  7 25]]\n\n [[48 17 39 31 15  9 45]\n  [31 47 24 26 15 14 46]\n  [42  1 17 43 27 27 21]]]\n# of dims 3\nshape of dims (2, 3, 7)\n"
     ]
    }
   ],
   "source": [
    "arr1 = np.random.randint(1,50,size=(3,7))\n",
    "arr2 = np.random.randint(1,50,size=(3,7))\n",
    "\n",
    "arr = np.stack((arr1,arr2))\n",
    "print(arr1)\n",
    "print(\"-\"*20)\n",
    "print(arr2)\n",
    "print(\"-\"*20)\n",
    "print(\"this puts arr1 on top of arr2 and creates 3D array as arr1 and arr2 are 2D arrays, has 2 rows\")\n",
    "print(arr)\n",
    "print(\"# of dims\",arr.ndim)\n",
    "print(\"shape of dims\",arr.shape)"
   ]
  },
  {
   "cell_type": "code",
   "execution_count": 321,
   "metadata": {},
   "outputs": [
    {
     "output_type": "stream",
     "name": "stdout",
     "text": [
      "[[29  5 25 46 11 49 28]\n [26 23 12  8 29 27 22]\n [20 38 14 48  9 20 27]]\n--------------------\n[[27 13 26 35 13 44 13]\n [16 49 10  9 35 30 43]\n [ 2  2 10 22 46 12  7]]\n--------------------\nthis puts row at index i from arr1 and arr2 on top of each other and creates 3D array as arr1 and arr2 are 2D arrays, has 3 rows now\n[[[29  5 25 46 11 49 28]\n  [27 13 26 35 13 44 13]]\n\n [[26 23 12  8 29 27 22]\n  [16 49 10  9 35 30 43]]\n\n [[20 38 14 48  9 20 27]\n  [ 2  2 10 22 46 12  7]]]\n# of dims 3\nshape of dims (3, 2, 7)\n"
     ]
    }
   ],
   "source": [
    "arr1 = np.random.randint(1,50,size=(3,7))\n",
    "arr2 = np.random.randint(1,50,size=(3,7))\n",
    "\n",
    "arr = np.stack((arr1,arr2), axis=1)\n",
    "print(arr1)\n",
    "print(\"-\"*20)\n",
    "print(arr2)\n",
    "print(\"-\"*20)\n",
    "print(\"this puts row at index i from arr1 and arr2 on top of each other and creates 3D array as arr1 and arr2 are 2D arrays, has 3 rows now\")\n",
    "print(arr)\n",
    "print(\"# of dims\",arr.ndim)\n",
    "print(\"shape of dims\",arr.shape)"
   ]
  },
  {
   "cell_type": "code",
   "execution_count": 322,
   "metadata": {},
   "outputs": [
    {
     "output_type": "stream",
     "name": "stdout",
     "text": [
      "[[30 31 19 16 24 22 14]\n [15  4 15 17 34 23 12]\n [ 8 26 29  5 44  6 28]]\n--------------------\n[[ 7 42 22 30 47 34 49]\n [28 17  3 14 25 31 27]\n [27  6 20 42  3 47 15]]\n--------------------\nthis puts row at index i from arr1 and arr2 on top of each other and creates 3D array as arr1 and arr2 are 2D arrays, has 3 rows now\n[[30 31 19 16 24 22 14  7 42 22 30 47 34 49]\n [15  4 15 17 34 23 12 28 17  3 14 25 31 27]\n [ 8 26 29  5 44  6 28 27  6 20 42  3 47 15]]\n# of dims 2\nshape of dims (3, 14)\n"
     ]
    }
   ],
   "source": [
    "# hstack\n",
    "arr1 = np.random.randint(1,50,size=(3,7))\n",
    "arr2 = np.random.randint(1,50,size=(3,7))\n",
    "\n",
    "arr = np.hstack((arr1,arr2))\n",
    "print(arr1)\n",
    "print(\"-\"*20)\n",
    "print(arr2)\n",
    "print(\"-\"*20)\n",
    "print(\"concatinates corresponding row from arr1 and arr2 at index i, changes number of columns \")\n",
    "print(arr)\n",
    "print(\"# of dims\",arr.ndim)\n",
    "print(\"shape of dims\",arr.shape)"
   ]
  },
  {
   "cell_type": "code",
   "execution_count": 323,
   "metadata": {},
   "outputs": [
    {
     "output_type": "stream",
     "name": "stdout",
     "text": [
      "[[13 21 33 39 17  6 27]\n [43 12 28  3 19  7 49]\n [44 11 11 11  7 35 17]]\n--------------------\n[[41 46 38 40 22 14 24]\n [ 7 36 21 17 26 10 26]\n [41  6 24 41  2 22 13]]\n--------------------\nsimilar to stack with axis 1\n[[13 21 33 39 17  6 27]\n [43 12 28  3 19  7 49]\n [44 11 11 11  7 35 17]\n [41 46 38 40 22 14 24]\n [ 7 36 21 17 26 10 26]\n [41  6 24 41  2 22 13]]\n# of dims 2\nshape of dims (6, 7)\n"
     ]
    }
   ],
   "source": [
    "# vstack\n",
    "arr1 = np.random.randint(1,50,size=(3,7))\n",
    "arr2 = np.random.randint(1,50,size=(3,7))\n",
    "\n",
    "arr = np.vstack((arr1,arr2))\n",
    "print(arr1)\n",
    "print(\"-\"*20)\n",
    "print(arr2)\n",
    "print(\"-\"*20)\n",
    "print(\"stacks one array on top of another array, changes number of rows\")\n",
    "print(arr)\n",
    "print(\"# of dims\",arr.ndim)\n",
    "print(\"shape of dims\",arr.shape)"
   ]
  },
  {
   "cell_type": "code",
   "execution_count": 328,
   "metadata": {},
   "outputs": [
    {
     "output_type": "stream",
     "name": "stdout",
     "text": [
      "[[ 7 46 11  5 27 31 21]\n [48 41 44 15  9 11 37]]\n--------------------\n[[34 36 22 26  7 13 28]\n [38 26 31  9 16 10 32]]\n--------------------\ncreates rows in 3D array = # of rows in arr1,arr2,arr3, 2 in this case\ncreates colums = # of arrays, arr1,arr2,arr3 = 3\ncreates rows in each 2D array = # of cols in arr1,arr2,arr3 = 7\n[[[ 7 34 25]\n  [46 36 48]\n  [11 22 47]\n  [ 5 26  3]\n  [27  7 33]\n  [31 13  7]\n  [21 28 31]]\n\n [[48 38 11]\n  [41 26 35]\n  [44 31 32]\n  [15  9 32]\n  [ 9 16 26]\n  [11 10 11]\n  [37 32  4]]]\n# of dims 3\nshape of dims (2, 7, 3)\n"
     ]
    }
   ],
   "source": [
    "# dstack\n",
    "arr1 = np.random.randint(1,50,size=(2,7))\n",
    "arr2 = np.random.randint(1,50,size=(2,7))\n",
    "arr3 = np.random.randint(1,50,size=(2,7))\n",
    "\n",
    "arr = np.dstack((arr1,arr2,arr3))\n",
    "print(arr1)\n",
    "print(\"-\"*20)\n",
    "print(arr2)\n",
    "print(\"-\"*20)\n",
    "print(\"creates rows in 3D array = # of rows in arr1,arr2,arr3, 2 in this case\")\n",
    "print(\"creates colums = # of arrays, arr1,arr2,arr3 = 3\")\n",
    "print(\"creates rows in each 2D array = # of cols in arr1,arr2,arr3 = 7\")\n",
    "print(arr)\n",
    "print(\"# of dims\",arr.ndim)\n",
    "print(\"shape of dims\",arr.shape)\n"
   ]
  },
  {
   "source": [
    "## Splitting NumPy Arrays\n",
    "\n",
    "Splitting is reverse of joining\n",
    "\n",
    "we use `array_split` method as `split` method does not adjust if the number of elemets dont match\n"
   ],
   "cell_type": "markdown",
   "metadata": {}
  },
  {
   "cell_type": "code",
   "execution_count": 331,
   "metadata": {},
   "outputs": [
    {
     "output_type": "stream",
     "name": "stdout",
     "text": [
      "[17  8 28 24 14 39 40 47 16 44]\n--------------------\n[array([17,  8, 28, 24]), array([14, 39, 40]), array([47, 16, 44])]\n"
     ]
    }
   ],
   "source": [
    "# split array into 3 arrays\n",
    "arr = np.random.randint(1,50,size=(10))\n",
    "newarr = np.array_split(arr, 3)\n",
    "print(arr)\n",
    "print(\"-\"*20)\n",
    "print()\n",
    "print(newarr) "
   ]
  },
  {
   "cell_type": "code",
   "execution_count": 332,
   "metadata": {},
   "outputs": [
    {
     "output_type": "stream",
     "name": "stdout",
     "text": [
      "[24 25 36 25 27 40]\n--------------------\n[array([24, 25]), array([36, 25]), array([27]), array([40])]\n"
     ]
    }
   ],
   "source": [
    "# split array into 4 arrays\n",
    "arr = np.random.randint(1,50,size=(6))\n",
    "newarr = np.array_split(arr, 4)\n",
    "print(arr)\n",
    "print(\"-\"*20)\n",
    "print(newarr) "
   ]
  },
  {
   "cell_type": "code",
   "execution_count": 339,
   "metadata": {},
   "outputs": [
    {
     "output_type": "stream",
     "name": "stdout",
     "text": [
      "[[40 48 19]\n [ 7 11 29]\n [36 33 35]\n [ 3 29  8]\n [47 31 48]]\n--------------------\n(0,) \n [[40 48 19]\n [ 7 11 29]]\n(1,) \n [[36 33 35]\n [ 3 29  8]]\n(2,) \n [[47 31 48]]\n"
     ]
    }
   ],
   "source": [
    "# 2D array, split array into 3 arrays, col axis, so rows are adjusted\n",
    "arr = np.random.randint(1,50,size=(5,3))\n",
    "newarr = np.array_split(arr, 3)\n",
    "print(arr)\n",
    "print(\"-\"*20)\n",
    "\n",
    "# array will be 2D, number of columns will not change number of rows will be adjuted if required\n",
    "for k,val in np.ndenumerate(newarr):\n",
    "    print(k,\"\\n\",val)"
   ]
  },
  {
   "cell_type": "code",
   "execution_count": 346,
   "metadata": {},
   "outputs": [
    {
     "output_type": "stream",
     "name": "stdout",
     "text": [
      "[[29 21 34]\n [26 13  9]\n [ 8 27  8]\n [26  1 15]]\n--------------------\n[array([[29, 21],\n       [26, 13],\n       [ 8, 27],\n       [26,  1]]), array([[34],\n       [ 9],\n       [ 8],\n       [15]])]\n--------------------\n"
     ]
    }
   ],
   "source": [
    "# 2D array, split array into 2 arrays, row axis, so cols are adjusted\n",
    "arr = np.random.randint(1,50,size=(4,3))\n",
    "newarr = np.array_split(arr, 2, axis=1)\n",
    "print(arr)\n",
    "print(\"-\"*20)\n",
    "print(newarr)\n",
    "print(\"-\"*20)\n",
    "# array will be 2D, number of rows will not change number of cols will be adjuted if required\n",
    "# first roe has 2 cols\n",
    "# second row has 1 col"
   ]
  },
  {
   "cell_type": "code",
   "execution_count": 353,
   "metadata": {},
   "outputs": [
    {
     "output_type": "stream",
     "name": "stdout",
     "text": [
      "[[35 11 25 37 48 48 22  5]\n [ 7 42 15 40 36 17 48 24]]\n--------------------\n[array([[35, 11],\n       [ 7, 42]]), array([[25, 37],\n       [15, 40]]), array([[48, 48],\n       [36, 17]]), array([[22,  5],\n       [48, 24]])]\n--------------------\n"
     ]
    }
   ],
   "source": [
    "# hsplit\n",
    "\n",
    "arr = np.random.randint(1,50,size=(2,8))\n",
    "newarr = np.hsplit(arr, 4)\n",
    "print(arr)\n",
    "print(\"-\"*20)\n",
    "print(newarr)\n",
    "print(\"-\"*20)\n",
    "# need 4 arrays\n",
    "# first 2 cols for each row make the first array\n",
    "# 3rd and 4th cols for each row make the 2nd array\n",
    "# 5th and 6th cols for each row make the 3rd array\n",
    "# 7th and 8th cols for each row make the 4th array"
   ]
  },
  {
   "source": [
    "**`Note:`** Similar alternates to `vstack()` and `dstack()` are available as `vsplit()` and `dsplit()`."
   ],
   "cell_type": "markdown",
   "metadata": {}
  },
  {
   "source": [
    "## NumPy Searching Arrays\n",
    "\n",
    "Searching array returns the indices of the result  \n",
    "To search an array, use the `where()` method."
   ],
   "cell_type": "markdown",
   "metadata": {}
  },
  {
   "cell_type": "code",
   "execution_count": 354,
   "metadata": {},
   "outputs": [
    {
     "output_type": "stream",
     "name": "stdout",
     "text": [
      "(array([3, 5, 6]),)\n"
     ]
    }
   ],
   "source": [
    "arr = np.array([1, 2, 3, 4, 5, 4, 4])\n",
    "x = np.where(arr == 4)\n",
    "print(x) "
   ]
  },
  {
   "cell_type": "code",
   "execution_count": 358,
   "metadata": {},
   "outputs": [
    {
     "output_type": "stream",
     "name": "stdout",
     "text": [
      "[ 1  4  7 10 13 16 19 22 25 28 31 34 37 40 43 46 49]\n(array([ 1,  3,  5,  7,  9, 11, 13, 15]),)\n"
     ]
    }
   ],
   "source": [
    "# every third element till 50\n",
    "arr = np.arange(1,50,3)\n",
    "print(arr)\n",
    "\n",
    "# index for every even number in the above list\n",
    "x = np.where(arr%2 == 0)\n",
    "print(x)"
   ]
  },
  {
   "cell_type": "code",
   "execution_count": 359,
   "metadata": {},
   "outputs": [
    {
     "output_type": "stream",
     "name": "stdout",
     "text": [
      "[ 1  6 11 16 21 26 31 36 41 46]\n(array([0, 2, 4, 6, 8]),)\n"
     ]
    }
   ],
   "source": [
    "# every fifth element till 50\n",
    "arr = np.arange(1,50,5)\n",
    "print(arr)\n",
    "\n",
    "# index for every odd number in the above list\n",
    "x = np.where(arr%2 == 1)\n",
    "print(x)"
   ]
  },
  {
   "source": [
    "### search sorted"
   ],
   "cell_type": "markdown",
   "metadata": {}
  },
  {
   "cell_type": "code",
   "execution_count": 375,
   "metadata": {},
   "outputs": [
    {
     "output_type": "stream",
     "name": "stdout",
     "text": [
      "[ 2  4  6  8 10 12 14 16 18 20 22 24 26 28 30 32 34 36 38 40 42 44 46 48]\n6\n"
     ]
    }
   ],
   "source": [
    "arr = np.arange(2,50,2)\n",
    "print(arr)\n",
    "# search single value in sorted order\n",
    "x = np.searchsorted(arr,14)\n",
    "print(x)"
   ]
  },
  {
   "cell_type": "code",
   "execution_count": 399,
   "metadata": {},
   "outputs": [
    {
     "output_type": "stream",
     "name": "stdout",
     "text": [
      "[ 2  4  6  8 10 12 14 16 18 20 22 24 26 28 30 32 34 36 38 40 42 44 46 48]\nIndex of 14 is :  7\nElement at 7 is :  16\n"
     ]
    }
   ],
   "source": [
    "arr = np.arange(2,50,2)\n",
    "print(arr)\n",
    "# search single value in sorted order from right side\n",
    "x = np.searchsorted(arr, 14, side='right') # this one has issue\n",
    "print('Index of 14 is : ',x)\n",
    "print(\"Element at \"+str(x)+\" is : \",arr[x])"
   ]
  },
  {
   "cell_type": "code",
   "execution_count": 384,
   "metadata": {},
   "outputs": [
    {
     "output_type": "stream",
     "name": "stdout",
     "text": [
      "[ 2  4  6  8 10 12 14 16 18 20 22 24 26 28 30 32 34 36 38 40 42 44 46 48]\n[ 6 23 19]\n"
     ]
    }
   ],
   "source": [
    "arr = np.arange(2,50,2)\n",
    "print(arr)\n",
    "# search single value in sorted order from right side\n",
    "x = np.searchsorted(arr, [14,48,40])\n",
    "print(x)"
   ]
  },
  {
   "source": [
    "## Sorting Arrays\n",
    "\n",
    "putting elements in ordered sequence"
   ],
   "cell_type": "markdown",
   "metadata": {}
  },
  {
   "cell_type": "code",
   "execution_count": 406,
   "metadata": {},
   "outputs": [
    {
     "output_type": "stream",
     "name": "stdout",
     "text": [
      "[3 2 0 1] \n [0 1 2 3] \n----\n\n['banana' 'cherry' 'apple'] \n ['apple' 'banana' 'cherry'] \n----\n\n[ True False  True] \n [False  True  True] \n----\n\n[[3 2 4]\n [5 0 1]] \n----\n [[2 3 4]\n [0 1 5]]\n"
     ]
    }
   ],
   "source": [
    "# number\n",
    "arr = np.array([3, 2, 0, 1])\n",
    "print(arr,\"\\n\", np.sort(arr),'\\n----\\n') \n",
    "\n",
    "# String\n",
    "arr = np.array(['banana', 'cherry', 'apple'])\n",
    "print(arr, \"\\n\", np.sort(arr),\"\\n----\\n\") \n",
    "\n",
    "# boolean\n",
    "arr = np.array([True, False, True])\n",
    "print(arr, \"\\n\", np.sort(arr),\"\\n----\\n\") \n",
    "\n",
    "# 2D array\n",
    "arr = np.array([[3, 2, 4], [5, 0, 1]])\n",
    "print(arr, \"\\n----\\n\", np.sort(arr)) "
   ]
  },
  {
   "cell_type": "code",
   "execution_count": 409,
   "metadata": {},
   "outputs": [
    {
     "output_type": "stream",
     "name": "stdout",
     "text": [
      "[ 3  2 45  0  1] \n----\n [45  3  2  1  0]\n--------------------\n[[3 2 4]\n [5 0 1]] \n----\n [[4 3 2]\n [5 1 0]]\n"
     ]
    }
   ],
   "source": [
    "# reversed sort\n",
    "arr = np.array([3, 2, 45, 0, 1])\n",
    "print(arr, \"\\n----\\n\", np.sort(arr)[::-1]) \n",
    "print('-'*20)\n",
    "arr = np.array([[3, 2, 4], [5, 0, 1]])\n",
    "print(arr, \"\\n----\\n\", np.sort(arr)[:,::-1]) "
   ]
  },
  {
   "source": [
    "## Filter arrays\n",
    "\n",
    "Getting some elements out of an existing array and creating a new array out of them is called filtering.\n",
    "\n",
    "In NumPy, you filter an array using a boolean index list.\n",
    "\n",
    "\n",
    "\n",
    "A boolean index list is a list of booleans corresponding to indexes in the array.\n",
    "\n",
    "If the value at an index is True that element is contained in the filtered array, if the value at that index is False that element is excluded from the filtered array."
   ],
   "cell_type": "markdown",
   "metadata": {}
  },
  {
   "cell_type": "code",
   "execution_count": 410,
   "metadata": {},
   "outputs": [
    {
     "output_type": "stream",
     "name": "stdout",
     "text": [
      "[41 43]\n"
     ]
    }
   ],
   "source": [
    "arr = np.array([41, 42, 43, 44])\n",
    "# print item at index 0 and 2 \n",
    "x = [True, False, True, False]\n",
    "newarr = arr[x]\n",
    "print(newarr)"
   ]
  },
  {
   "cell_type": "code",
   "execution_count": 413,
   "metadata": {},
   "outputs": [
    {
     "output_type": "stream",
     "name": "stdout",
     "text": [
      "[False, False, True, True]\n[43 44]\n"
     ]
    }
   ],
   "source": [
    "# print elements higher than 42\n",
    "arr = np.array([41, 42, 43, 44])\n",
    "\n",
    "# create empty filter array\n",
    "filter_arr = []\n",
    "\n",
    "for i in arr:\n",
    "    if i >42:\n",
    "        filter_arr.append(True)\n",
    "    else:\n",
    "        filter_arr.append(False)\n",
    "\n",
    "# pass the filter_array to actual array\n",
    "newarr = arr[filter_arr]\n",
    "\n",
    "print(filter_arr)\n",
    "print(newarr)\n",
    "\n"
   ]
  },
  {
   "cell_type": "code",
   "execution_count": 430,
   "metadata": {},
   "outputs": [
    {
     "output_type": "stream",
     "name": "stdout",
     "text": [
      "[False, True, False, True, False, True, False, True, False, True, False, True, False, True, False, True, False, True, False, True]\n[ 2  4  6  8 10 12 14 16 18 20]\n"
     ]
    }
   ],
   "source": [
    "# Create a filter array that will return only even elements from the original array\n",
    "\n",
    "arr = np.arange(1,21)\n",
    "\n",
    "# create empty filter array\n",
    "filter_arr = []\n",
    "\n",
    "for i in arr:\n",
    "    if i %2 == 0:\n",
    "        filter_arr.append(True)\n",
    "    else:\n",
    "        filter_arr.append(False)\n",
    "\n",
    "# pass the filter_array to actual array\n",
    "newarr = arr[filter_arr]\n",
    "\n",
    "print(filter_arr)\n",
    "print(newarr)\n"
   ]
  },
  {
   "source": [
    "# Creating Filter Directly From Array"
   ],
   "cell_type": "markdown",
   "metadata": {}
  },
  {
   "cell_type": "code",
   "execution_count": 431,
   "metadata": {},
   "outputs": [
    {
     "output_type": "stream",
     "name": "stdout",
     "text": [
      "[False False  True  True]\n[43 44]\n"
     ]
    }
   ],
   "source": [
    "# Create a filter array that will return only values higher than 42:\n",
    "arr = np.array([41, 42, 43, 44])\n",
    "filter_arr = arr > 42\n",
    "newarr = arr[filter_arr]\n",
    "print(filter_arr)\n",
    "print(newarr) "
   ]
  },
  {
   "cell_type": "code",
   "execution_count": 432,
   "metadata": {},
   "outputs": [
    {
     "output_type": "stream",
     "name": "stdout",
     "text": [
      "[False False  True  True]\n[2 4 6]\n"
     ]
    }
   ],
   "source": [
    "# Create a filter array that will return only even elements from the original array:\n",
    "arr = np.array([1, 2, 3, 4, 5, 6, 7])\n",
    "filtered_arr = arr %2 ==0\n",
    "newarr = arr[filtered_arr]\n",
    "print(filter_arr)\n",
    "print(newarr) "
   ]
  },
  {
   "cell_type": "code",
   "execution_count": null,
   "metadata": {},
   "outputs": [],
   "source": []
  }
 ]
}