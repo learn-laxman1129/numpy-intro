{
 "metadata": {
  "language_info": {
   "codemirror_mode": {
    "name": "ipython",
    "version": 3
   },
   "file_extension": ".py",
   "mimetype": "text/x-python",
   "name": "python",
   "nbconvert_exporter": "python",
   "pygments_lexer": "ipython3",
   "version": "3.8.3-final"
  },
  "orig_nbformat": 2,
  "kernelspec": {
   "name": "Python 3.8.3 64-bit ('aiml1': conda)",
   "display_name": "Python 3.8.3 64-bit ('aiml1': conda)",
   "metadata": {
    "interpreter": {
     "hash": "4679b77d4638167d678d58301c2a68afb4de0bda7d7a8bd5f7f4da2854807b37"
    }
   }
  }
 },
 "nbformat": 4,
 "nbformat_minor": 2,
 "cells": [
  {
   "source": [
    "# Numpy Intro\n",
    "\n",
    "## Reference:\n",
    "\n",
    "1. https://www.w3schools.com/python/numpy_intro.asp  \n",
    "2. https://numpy.org/  \n",
    "3. http://www.learningaboutelectronics.com/Articles/How-to-create-an-array-of-random-integers-in-Python-with-numpy.php  \n"
   ],
   "cell_type": "markdown",
   "metadata": {}
  },
  {
   "source": [
    "## Getting started"
   ],
   "cell_type": "markdown",
   "metadata": {}
  },
  {
   "cell_type": "code",
   "execution_count": 3,
   "metadata": {},
   "outputs": [
    {
     "output_type": "stream",
     "name": "stdout",
     "text": [
      "[1 2 3 4 5]\n<class 'numpy.ndarray'>\n1.18.5\n"
     ]
    }
   ],
   "source": [
    "import numpy as np\n",
    "arr = np.array([1,2,3,4,5])\n",
    "print(arr)\n",
    "print(type(arr))\n",
    "\n",
    "print(np.__version__)"
   ]
  },
  {
   "source": [
    "## Using tuple to create array"
   ],
   "cell_type": "markdown",
   "metadata": {}
  },
  {
   "cell_type": "code",
   "execution_count": 4,
   "metadata": {},
   "outputs": [
    {
     "output_type": "stream",
     "name": "stdout",
     "text": [
      "[1 2 3 4 5 6 7]\n"
     ]
    }
   ],
   "source": [
    "arr = np.array((1,2,3,4,5,6,7))\n",
    "print(arr)"
   ]
  },
  {
   "source": [
    "## Dimensions"
   ],
   "cell_type": "markdown",
   "metadata": {}
  },
  {
   "cell_type": "code",
   "execution_count": 17,
   "metadata": {},
   "outputs": [
    {
     "output_type": "stream",
     "name": "stdout",
     "text": [
      "42\n# of dimensions :  0\n"
     ]
    }
   ],
   "source": [
    "# 0 dimensional, with single value\n",
    "arr = np.array(42)\n",
    "print(arr)\n",
    "\n",
    "# check number of dimensions\n",
    "print(\"# of dimensions : \", arr.ndim) "
   ]
  },
  {
   "cell_type": "code",
   "execution_count": 16,
   "metadata": {},
   "outputs": [
    {
     "output_type": "stream",
     "name": "stdout",
     "text": [
      "[ 7 14 21 28 35 42]\n# of dimensions :  1\n"
     ]
    }
   ],
   "source": [
    "# 1 dimensional, with one array\n",
    "arr = np.array([7,14,21,28,35,42])\n",
    "print(arr)\n",
    "\n",
    "# check number of dimensions\n",
    "print(\"# of dimensions : \", arr.ndim) "
   ]
  },
  {
   "cell_type": "code",
   "execution_count": 19,
   "metadata": {},
   "outputs": [
    {
     "output_type": "stream",
     "name": "stdout",
     "text": [
      "[[1 2]\n [3 4]]\n# of dimensions :  2\n"
     ]
    }
   ],
   "source": [
    "# 2 dimensional, an array that has 1D arrays as elements\n",
    "arr = np.array([\n",
    "        [1,2],\n",
    "        [3,4]\n",
    "    ])\n",
    "print(arr)\n",
    "\n",
    "# check number of dimensions\n",
    "print(\"# of dimensions : \", arr.ndim) "
   ]
  },
  {
   "cell_type": "code",
   "execution_count": 18,
   "metadata": {},
   "outputs": [
    {
     "output_type": "stream",
     "name": "stdout",
     "text": [
      "[[[1 2]\n  [3 4]]\n\n [[5 6]\n  [7 9]]]\n# of dimensions :  3\n"
     ]
    }
   ],
   "source": [
    "# 3 dimensional, an array that has 2D arrays as its elements\n",
    "arr = np.array([\n",
    "    [\n",
    "        [1,2],\n",
    "        [3,4]\n",
    "    ],\n",
    "    [\n",
    "        [5,6],\n",
    "        [7,9]\n",
    "    ]\n",
    "])\n",
    "print(arr)\n",
    "\n",
    "# check number of dimensions\n",
    "print(\"# of dimensions : \", arr.ndim) "
   ]
  },
  {
   "source": [
    "## Creating higher dimensional array using numpy"
   ],
   "cell_type": "markdown",
   "metadata": {}
  },
  {
   "cell_type": "code",
   "execution_count": 21,
   "metadata": {},
   "outputs": [
    {
     "output_type": "stream",
     "name": "stdout",
     "text": [
      "[[[[[1 2 3 4]]]]]\n# of dimensions :  5\n"
     ]
    }
   ],
   "source": [
    "arr = np.array([1,2,3,4], ndmin=5)\n",
    "print(arr)\n",
    "# check number of dimensions\n",
    "print(\"# of dimensions : \", arr.ndim) "
   ]
  },
  {
   "cell_type": "code",
   "execution_count": 46,
   "metadata": {},
   "outputs": [
    {
     "output_type": "stream",
     "name": "stdout",
     "text": [
      "[[[[[ 1  2  3  4]\n    [ 5  6  7  8]]\n\n   [[11 12 13 14]\n    [15 16 17 18]]]]]\n# of dimensions :  5\n"
     ]
    }
   ],
   "source": [
    "arr = np.array([\n",
    "    [[1,2,3,4],[5,6,7,8]],\n",
    "    [[11,12,13,14],[15,16,17,18]]\n",
    "], ndmin=5)\n",
    "print(arr)\n",
    "# check number of dimensions\n",
    "print(\"# of dimensions : \", arr.ndim) "
   ]
  },
  {
   "source": [
    "## Array indexing\n",
    "Indexing is used to access the elemets in the array"
   ],
   "cell_type": "markdown",
   "metadata": {}
  },
  {
   "cell_type": "code",
   "execution_count": 51,
   "metadata": {},
   "outputs": [
    {
     "output_type": "stream",
     "name": "stdout",
     "text": [
      "accessing the 1st level\n--------------------\n[[[[ 1  2  3  4]\n   [ 5  6  7  8]]\n\n  [[11 12 13 14]\n   [15 16 17 18]]]]\n--------------------\naccessing the 2nd level\n--------------------\n[[[ 1  2  3  4]\n  [ 5  6  7  8]]\n\n [[11 12 13 14]\n  [15 16 17 18]]]\n--------------------\naccessing the 3rd level\n--------------------\n[[1 2 3 4]\n [5 6 7 8]]\n--------------------\naccessing the 4th level\n--------------------\n[15 16 17 18]\n--------------------\naccessing the 5th level\n--------------------\n18\n"
     ]
    }
   ],
   "source": [
    "print('accessing the 1st level')\n",
    "print('-'*20)\n",
    "print(arr[0])\n",
    "print('-'*20)\n",
    "\n",
    "print('accessing the 2nd level')\n",
    "print('-'*20)\n",
    "print(arr[0][0])\n",
    "print('-'*20)\n",
    "\n",
    "print('accessing the 3rd level')\n",
    "print('-'*20)\n",
    "print(arr[0][0][0])\n",
    "print('-'*20)\n",
    "\n",
    "print('accessing the 4th level')\n",
    "print('-'*20)\n",
    "print(arr[0][0][1][1])\n",
    "print('-'*20)\n",
    "\n",
    "print('accessing the 5th level')\n",
    "print('-'*20)\n",
    "print(arr[0][0][1][1][3])\n",
    "\n"
   ]
  },
  {
   "source": [
    "## Array can be accessed by passing an array of indices\n",
    "\n",
    "arr\\[l,m,n,o\\] => returns the 4D array element, if its present"
   ],
   "cell_type": "markdown",
   "metadata": {}
  },
  {
   "cell_type": "code",
   "execution_count": 52,
   "metadata": {},
   "outputs": [
    {
     "output_type": "stream",
     "name": "stdout",
     "text": [
      "accessing the 1st level\n--------------------\n[[[[ 1  2  3  4]\n   [ 5  6  7  8]]\n\n  [[11 12 13 14]\n   [15 16 17 18]]]]\n--------------------\naccessing the 2nd level\n--------------------\n[[[ 1  2  3  4]\n  [ 5  6  7  8]]\n\n [[11 12 13 14]\n  [15 16 17 18]]]\n--------------------\naccessing the 3rd level\n--------------------\n[[1 2 3 4]\n [5 6 7 8]]\n--------------------\naccessing the 4th level\n--------------------\n[15 16 17 18]\n--------------------\naccessing the 5th level\n--------------------\n18\n"
     ]
    }
   ],
   "source": [
    "print('accessing the 1st level')\n",
    "print('-'*20)\n",
    "print(arr[0])\n",
    "print('-'*20)\n",
    "\n",
    "print('accessing the 2nd level')\n",
    "print('-'*20)\n",
    "print(arr[0,0])\n",
    "print('-'*20)\n",
    "\n",
    "print('accessing the 3rd level')\n",
    "print('-'*20)\n",
    "print(arr[0,0,0])\n",
    "print('-'*20)\n",
    "\n",
    "print('accessing the 4th level')\n",
    "print('-'*20)\n",
    "print(arr[0,0,1,1])\n",
    "print('-'*20)\n",
    "\n",
    "print('accessing the 5th level')\n",
    "print('-'*20)\n",
    "print(arr[0,0,1,1,3])"
   ]
  },
  {
   "source": [
    "## Negative indexing"
   ],
   "cell_type": "markdown",
   "metadata": {}
  },
  {
   "cell_type": "code",
   "execution_count": 61,
   "metadata": {},
   "outputs": [
    {
     "output_type": "stream",
     "name": "stdout",
     "text": [
      "accessing the 3rd level, last element\n--------------------\n[[11 12 13 14]\n [15 16 17 18]]\n--------------------\naccessing the 4th level, last element\n--------------------\n[15 16 17 18]\n--------------------\naccessing the 5th level, second last element of the first element at 4th level\n--------------------\n13\n--------------------\n"
     ]
    }
   ],
   "source": [
    "print('accessing the 3rd level, last element')\n",
    "print('-'*20)\n",
    "print(arr[0,0,-1])\n",
    "print('-'*20)\n",
    "\n",
    "print('accessing the 4th level, last element')\n",
    "print('-'*20)\n",
    "print(arr[0,0,-1,-1])\n",
    "print('-'*20)\n",
    "\n",
    "print('accessing the 5th level, second last element of the first element at 4th level')\n",
    "print('-'*20)\n",
    "print(arr[0,0,-1,-2,-2])\n",
    "print('-'*20)"
   ]
  },
  {
   "source": [
    "## Array slicing\n",
    "\n",
    "Slicing helps in taking elements from one index to another index\n",
    "\n",
    "e.g.\n",
    "\n",
    "arr\\[start:end\\]  \n",
    "arr\\[start:end:step\\]  \n",
    "arr\\[start:end,start,:end\\] etc.\n"
   ],
   "cell_type": "markdown",
   "metadata": {}
  },
  {
   "cell_type": "code",
   "execution_count": 80,
   "metadata": {},
   "outputs": [
    {
     "output_type": "stream",
     "name": "stdout",
     "text": [
      "[25  7 53 87 28 72 17 93 34 62]\n# of dims 1\n--------------------\nprinting elements from 2nd to 4th\n[ 7 53 87]\nprinting elements from 4nd to end\n[28 72 17 93 34 62]\nprinting elements till 7th\n[25  7 53 87 28 72 17]\n"
     ]
    }
   ],
   "source": [
    "# 1D array\n",
    "arr = np.random.randint(1,100,10)\n",
    "print(arr)\n",
    "print(\"# of dims\",arr.ndim)\n",
    "print(\"-\"*20)\n",
    "\n",
    "print(\"printing elements from 2nd to 4th\")\n",
    "print(arr[1:4])\n",
    "\n",
    "print(\"printing elements from 4nd to end\")\n",
    "print(arr[4:])\n",
    "\n",
    "print(\"printing elements till 7th\")\n",
    "print(arr[:7])"
   ]
  },
  {
   "source": [
    "## Negative slicing"
   ],
   "cell_type": "markdown",
   "metadata": {}
  },
  {
   "cell_type": "code",
   "execution_count": 89,
   "metadata": {},
   "outputs": [
    {
     "output_type": "stream",
     "name": "stdout",
     "text": [
      "[73 72 21 10  8 46 24 27 53 77]\n# of dims 1\n--------------------\nprinting 3rd last elements till 2nd last elemet\n[27 53]\n--------------------\nprinting 6th last elements till the last elemet\n[ 8 46 24 27 53 77]\n"
     ]
    }
   ],
   "source": [
    "arr = np.random.randint(1,100,10)\n",
    "print(arr)\n",
    "print(\"# of dims\",arr.ndim)\n",
    "print(\"-\"*20)\n",
    "\n",
    "\n",
    "print(\"printing 3rd last elements till 2nd last elemet\")\n",
    "print(arr[-3:-1]) \n",
    "print(\"-\"*20)\n",
    "\n",
    "print(\"printing 6th last elements till the last elemet\")\n",
    "print(arr[-6:]) "
   ]
  },
  {
   "source": [
    "## using step"
   ],
   "cell_type": "markdown",
   "metadata": {}
  },
  {
   "cell_type": "code",
   "execution_count": 92,
   "metadata": {},
   "outputs": [
    {
     "output_type": "stream",
     "name": "stdout",
     "text": [
      "[94 56 27 32 23 96 97 50 92 52]\n# of dims 1\n--------------------\nelements at the 2nd index steps\n[94 27 23 97 92]\n--------------------\nelements at the 2nd index steps from 1st till 5th element\n[94 27 23]\n--------------------\nelements at even 2nd indices steps from 1st till 5th element\n[56 32]\n--------------------\n"
     ]
    }
   ],
   "source": [
    "arr = np.random.randint(1,100,10)\n",
    "print(arr)\n",
    "print(\"# of dims\",arr.ndim)\n",
    "print(\"-\"*20)\n",
    "\n",
    "print(\"elements at the 2nd index steps\")\n",
    "print(arr[::2])\n",
    "print(\"-\"*20)\n",
    "\n",
    "print(\"elements at the 2nd index steps from 1st till 5th element\")\n",
    "print(arr[:5:2])\n",
    "print(\"-\"*20)\n",
    "\n",
    "print(\"elements at even 2nd indices steps from 1st till 5th element\")\n",
    "print(arr[1:5:2])\n",
    "print(\"-\"*20)\n"
   ]
  },
  {
   "cell_type": "code",
   "execution_count": 152,
   "metadata": {},
   "outputs": [
    {
     "output_type": "stream",
     "name": "stdout",
     "text": [
      "[[ 9 29 38 15 10]\n [80 25 64  4 45]]\n# of dims 2\n--------------------\nprinting elements from index 0 \n[[ 9 29 38 15 10]\n [80 25 64  4 45]]\n# of dims 2\n--------------------\nprinting the first element from 2D array \n[[ 9 29 38 15 10]]\n# of dims 2\n--------------------\nprinting the second elements from 2D array \n[[80 25 64  4 45]]\n# of dims 2\n--------------------\nprinting the second element of the second element from 2D array \n[[80 25 64  4 45]]\n# of dims 2\n--------------------\n"
     ]
    }
   ],
   "source": [
    "# 2D array\n",
    "arr = np.random.randint(1,100, size=(2,5))\n",
    "print(arr)\n",
    "print(\"# of dims\",arr.ndim)\n",
    "print(\"-\"*20)\n",
    "\n",
    "print(\"printing elements from index 0 \")\n",
    "print(arr[0:])\n",
    "print(\"# of dims\",arr[0:].ndim)\n",
    "print(\"-\"*20)\n",
    "\n",
    "print(\"printing the first element from 2D array \")\n",
    "print(arr[0:1])\n",
    "print(\"# of dims\",arr[0:1].ndim)\n",
    "print(\"-\"*20)\n",
    "\n",
    "print(\"printing the second elements from 2D array \")\n",
    "print(arr[1:])\n",
    "print(\"# of dims\",arr[1:].ndim)\n",
    "print(\"-\"*20)\n",
    "\n",
    "print(\"printing the second element of the second element from 2D array \")\n",
    "print(arr[1:])\n",
    "print(\"# of dims\",arr[1:,1:2].ndim)\n",
    "print(\"-\"*20)"
   ]
  },
  {
   "cell_type": "code",
   "execution_count": 154,
   "metadata": {},
   "outputs": [
    {
     "output_type": "stream",
     "name": "stdout",
     "text": [
      "[[75 10 49 17  1]\n [51 82 68 99 88]]\n# of dims 2\n--------------------\nprinting the 3rd and 4th elements from all rows of 2D array\n[[49 17]\n [68 99]]\n# of dims 2\n--------------------\nprinting the 3rd and 4th elements from the second row of 2D array\n[[68]]\n# of dims 2\n--------------------\n"
     ]
    }
   ],
   "source": [
    "# 2D array\n",
    "arr = np.random.randint(1,100, size=(2,5))\n",
    "print(arr)\n",
    "print(\"# of dims\",arr.ndim)\n",
    "print(\"-\"*20)\n",
    "\n",
    "\n",
    "print(\"printing the 3rd and 4th elements from all rows of 2D array\")\n",
    "print(arr[0:,2:4])\n",
    "print(\"# of dims\",arr[0:,2:4].ndim)\n",
    "print(\"-\"*20)\n",
    "\n",
    "\n",
    "print(\"printing the 3rd and 4th elements from the second row of 2D array\")\n",
    "print(arr[1:2,2:3])\n",
    "print(\"# of dims\",arr[1:2,2:3].ndim)\n",
    "print(\"-\"*20)\n"
   ]
  },
  {
   "cell_type": "code",
   "execution_count": 164,
   "metadata": {},
   "outputs": [
    {
     "output_type": "stream",
     "name": "stdout",
     "text": [
      "3 dimentional array, with 2 rows and 3 elements\n[[[2 4 4]\n  [4 6 5]]\n\n [[4 6 3]\n  [6 8 3]]\n\n [[2 7 1]\n  [6 7 6]]]\n# of dims 3\n--------------------\n3 dimentional array, with 5 rows and 7 elements\n[[[66 50 84 99 78 45 55]\n  [21 10 19 50  2 67 21]\n  [81 70 71 13 51 15 46]\n  [25 60 64 48 84 49 91]\n  [12 11 62 59 22  5 91]]\n\n [[52 15 81 17  2  5 88]\n  [ 2 23  6 77 91 74 54]\n  [21 36 32 96 92 17 25]\n  [ 1 70 54 68 48 46 72]\n  [55 62 27 27 85 77 62]]\n\n [[56 55  2 69 43 75  2]\n  [59 94 49  7 93 65 49]\n  [69 89 13 99 55 71 57]\n  [52 28 72 26 70  7 32]\n  [29 40  4 32 93  2 85]]]\n# of dims 3\n--------------------\n"
     ]
    }
   ],
   "source": [
    "# 3D array\n",
    "print(\"3 dimentional array, with 2 rows and 3 elements\")\n",
    "arr = np.random.randint(1,10, size=(3,2,3)) \n",
    "print(arr)\n",
    "print(\"# of dims\",arr.ndim)\n",
    "print(\"-\"*20)\n",
    "\n",
    "\n",
    "print(\"3 dimentional array, with 5 rows and 7 elements\")\n",
    "arr = np.random.randint(1,100, size=(3,5,7)) \n",
    "print(arr)\n",
    "print(\"# of dims\",arr.ndim)\n",
    "print(\"-\"*20)"
   ]
  },
  {
   "cell_type": "code",
   "execution_count": 165,
   "metadata": {},
   "outputs": [
    {
     "output_type": "stream",
     "name": "stdout",
     "text": [
      "the first item in the 3D array using simple index gives 1D array\n[[66 50 84 99 78 45 55]\n [21 10 19 50  2 67 21]\n [81 70 71 13 51 15 46]\n [25 60 64 48 84 49 91]\n [12 11 62 59 22  5 91]]\n# of dims 2\n--------------------\nthe first item in the 3D array, using slice gives 3D array\n[[[66 50 84 99 78 45 55]\n  [21 10 19 50  2 67 21]\n  [81 70 71 13 51 15 46]\n  [25 60 64 48 84 49 91]\n  [12 11 62 59 22  5 91]]]\n# of dims 3\n--------------------\n"
     ]
    }
   ],
   "source": [
    "print(\"the first item in the 3D array using simple index gives 1D array\")\n",
    "print(arr[0])\n",
    "print(\"# of dims\",arr[0].ndim)\n",
    "print(\"-\"*20)\n",
    "\n",
    "print(\"the first item in the 3D array, using slice gives 3D array\")\n",
    "print(arr[0:1])\n",
    "print(\"# of dims\",arr[0:1].ndim)\n",
    "print(\"-\"*20)"
   ]
  },
  {
   "cell_type": "code",
   "execution_count": 169,
   "metadata": {},
   "outputs": [
    {
     "output_type": "stream",
     "name": "stdout",
     "text": [
      "the second element in 3D array\n[[[52 15 81 17  2  5 88]\n  [ 2 23  6 77 91 74 54]\n  [21 36 32 96 92 17 25]\n  [ 1 70 54 68 48 46 72]\n  [55 62 27 27 85 77 62]]]\n# of dims 3\n--------------------\n"
     ]
    }
   ],
   "source": [
    "print(\"the second element in 3D array\")\n",
    "print(arr[1:2])\n",
    "print(\"# of dims\",arr[0:1].ndim)\n",
    "print(\"-\"*20)"
   ]
  },
  {
   "cell_type": "code",
   "execution_count": 172,
   "metadata": {},
   "outputs": [
    {
     "output_type": "stream",
     "name": "stdout",
     "text": [
      "the 3rd and 4th element from the second element in 3D array\n[[[21 36 32 96 92 17 25]\n  [ 1 70 54 68 48 46 72]]]\n# of dims 3\n--------------------\n"
     ]
    }
   ],
   "source": [
    "print(\"the 3rd and 4th element from the second element in 3D array\")\n",
    "print(arr[1:2,2:4])\n",
    "print(\"# of dims\",arr[1:2,2:4].ndim)\n",
    "print(\"-\"*20)"
   ]
  },
  {
   "cell_type": "code",
   "execution_count": 182,
   "metadata": {},
   "outputs": [
    {
     "output_type": "stream",
     "name": "stdout",
     "text": [
      "the 6th element from the 3rd and 4th element from the second element in 3D array\n[[[25]\n  [72]]]\n# of dims 3\n--------------------\nthe 6th element from the 5th element from the second element in 3D array\n[[[77]]]\n# of dims 3\n--------------------\n"
     ]
    }
   ],
   "source": [
    "print(\"the 6th element from the 3rd and 4th element from the second element in 3D array\")\n",
    "print(arr[1:2,2:4,6:7])\n",
    "print(\"# of dims\",arr[1:2,2:4, 6:7].ndim)\n",
    "print(\"-\"*20)\n",
    "\n",
    "print(\"the 6th element, from the 5th element from the second element in 3D array\")\n",
    "\n",
    "\"\"\"\n",
    "1. 1:2 idexes the 2nd element of 3D array \n",
    "2. 4:5 indexes the 5th element of the array obtained as a result of step 1\n",
    "3. 5:6 indexes the 6th element of the array obtained as a result of step 2\n",
    "\"\"\"\n",
    "print(arr[1:2,4:5,5:6]) \n",
    "print(\"# of dims\",arr[1:2, 4:5, 5:6].ndim)\n",
    "print(\"-\"*20)"
   ]
  },
  {
   "source": [
    "## Data types\n",
    "\n",
    "Below is a list of all data types in NumPy and the characters used to represent them.\n",
    "\n",
    "    i - integer\n",
    "    b - boolean\n",
    "    u - unsigned integer\n",
    "    f - float\n",
    "    c - complex float\n",
    "    m - timedelta\n",
    "    M - datetime\n",
    "    O - object\n",
    "    S - string\n",
    "    U - unicode string\n",
    "    V - fixed chunk of memory for other type ( void )\n"
   ],
   "cell_type": "markdown",
   "metadata": {}
  },
  {
   "cell_type": "code",
   "execution_count": 189,
   "metadata": {},
   "outputs": [
    {
     "output_type": "stream",
     "name": "stdout",
     "text": [
      "[1 2 3 4]\ndatatype is :  int64\n--------------------\n['apple' 'banana' 'mango' 'peach']\ndatatype is :  <U6\n--------------------\nwith a defined datatype\n[b'1' b'2' b'3' b'4']\ndatatype is :  |S1\n--------------------\n"
     ]
    }
   ],
   "source": [
    "arr = np.array([1, 2, 3, 4])\n",
    "print(arr)\n",
    "print(\"datatype is : \",arr.dtype) \n",
    "print(\"-\"*20)\n",
    "\n",
    "arr = np.array([\"apple\", 'banana', 'mango', 'peach'])\n",
    "print(arr)\n",
    "print(\"datatype is : \",arr.dtype) \n",
    "print(\"-\"*20)\n",
    "\n",
    "print(\"with a defined datatype\")\n",
    "arr = np.array([1,2,3,4], dtype=\"S\")\n",
    "print(arr)\n",
    "print(\"datatype is : \",arr.dtype) \n",
    "print(\"-\"*20)"
   ]
  },
  {
   "source": [
    "For i, u, f, S and U we can define size as well."
   ],
   "cell_type": "markdown",
   "metadata": {}
  },
  {
   "cell_type": "code",
   "execution_count": 195,
   "metadata": {},
   "outputs": [
    {
     "output_type": "stream",
     "name": "stdout",
     "text": [
      "[1 2 3 4]\nint32\n--------------------\n[1 2 3 4]\nint64\n--------------------\n"
     ]
    }
   ],
   "source": [
    "arr = np.array([1, 2, 3, 4], dtype='i4')\n",
    "print(arr)\n",
    "print(arr.dtype) \n",
    "print(\"-\"*20)\n",
    "\n",
    "arr = np.array([1, 2, 3, 4], dtype='i8')\n",
    "print(arr)\n",
    "print(arr.dtype) \n",
    "print(\"-\"*20)"
   ]
  },
  {
   "source": [
    "## Converting datatype of existing array"
   ],
   "cell_type": "markdown",
   "metadata": {}
  },
  {
   "cell_type": "code",
   "execution_count": 200,
   "metadata": {},
   "outputs": [
    {
     "output_type": "stream",
     "name": "stdout",
     "text": [
      "Original array :  [1.1 2.1 3.1]\nfloat64\n--------------------\nNew array [1 2 3]\nint32\n--------------------\n"
     ]
    }
   ],
   "source": [
    "arr = np.array([1.1, 2.1, 3.1])\n",
    "print('Original array : ',arr)\n",
    "print(arr.dtype) \n",
    "print('-'*20)\n",
    "\n",
    "newarr = arr.astype('i')\n",
    "\n",
    "print('New array',newarr)\n",
    "print(newarr.dtype) \n",
    "print('-'*20)"
   ]
  },
  {
   "cell_type": "code",
   "execution_count": 201,
   "metadata": {},
   "outputs": [
    {
     "output_type": "stream",
     "name": "stdout",
     "text": [
      "Original array :  [1.1 2.1 3.1]\nfloat64\n--------------------\nNew array [1 2 3]\nint64\n--------------------\n"
     ]
    }
   ],
   "source": [
    "arr = np.array([1.1, 2.1, 3.1])\n",
    "print('Original array : ',arr)\n",
    "print(arr.dtype) \n",
    "print('-'*20)\n",
    "\n",
    "newarr = arr.astype(int)\n",
    "\n",
    "print('New array',newarr)\n",
    "print(newarr.dtype) \n",
    "print('-'*20)"
   ]
  },
  {
   "cell_type": "code",
   "execution_count": 203,
   "metadata": {},
   "outputs": [
    {
     "output_type": "stream",
     "name": "stdout",
     "text": [
      "Original array :  [1.1 2.1 0. ]\nfloat64\n--------------------\nNew array [ True  True False]\nbool\n--------------------\n"
     ]
    }
   ],
   "source": [
    "arr = np.array([1.1, 2.1, 0.0])\n",
    "print('Original array : ',arr)\n",
    "print(arr.dtype) \n",
    "print('-'*20)\n",
    "\n",
    "newarr = arr.astype(bool)\n",
    "\n",
    "print('New array',newarr)\n",
    "print(newarr.dtype) \n",
    "print('-'*20)"
   ]
  },
  {
   "cell_type": "code",
   "execution_count": 204,
   "metadata": {},
   "outputs": [
    {
     "output_type": "stream",
     "name": "stdout",
     "text": [
      "Original array :  [1.1 2.1 0. ]\nfloat64\n--------------------\nNew array ['1.1' '2.1' '0.0']\n<U32\n--------------------\n"
     ]
    }
   ],
   "source": [
    "arr = np.array([1.1, 2.1, 0.0])\n",
    "print('Original array : ',arr)\n",
    "print(arr.dtype) \n",
    "print('-'*20)\n",
    "\n",
    "newarr = arr.astype(str)\n",
    "\n",
    "print('New array',newarr)\n",
    "print(newarr.dtype) \n",
    "print('-'*20)"
   ]
  },
  {
   "source": [
    "## Copy vs View"
   ],
   "cell_type": "markdown",
   "metadata": {}
  },
  {
   "cell_type": "code",
   "execution_count": 212,
   "metadata": {},
   "outputs": [
    {
     "output_type": "stream",
     "name": "stdout",
     "text": [
      "changing the element at index 0 of the original array has no effect on copy\n--------------------\narr before changing the element : [1 2 3 4 5]\narr : [42  2  3  4  5]\nx   : [1 2 3 4 5]\n"
     ]
    }
   ],
   "source": [
    "print(\"changing the element at index 0 of the original array has no effect on copy\")\n",
    "print(\"-\"*20)\n",
    "\n",
    "arr = np.array([1, 2, 3, 4, 5])\n",
    "print(\"arr before changing the element :\",arr)\n",
    "x = arr.copy()\n",
    "arr[0] = 42\n",
    "\n",
    "print(\"arr :\",arr)\n",
    "print(\"x   :\",x) "
   ]
  },
  {
   "cell_type": "code",
   "execution_count": 213,
   "metadata": {},
   "outputs": [
    {
     "output_type": "stream",
     "name": "stdout",
     "text": [
      "changing the element at index 0 of the original array has effect on view\n--------------------\narr before changing the element : [1 2 3 4 5]\narr : [42  2  3  4  5]\nx   : [42  2  3  4  5]\n"
     ]
    }
   ],
   "source": [
    "print(\"changing the element at index 0 of the original array has effect on view\")\n",
    "print(\"-\"*20)\n",
    "\n",
    "arr = np.array([1, 2, 3, 4, 5])\n",
    "print(\"arr before changing the element :\",arr)\n",
    "x = arr.view()\n",
    "arr[0] = 42\n",
    "\n",
    "print(\"arr :\",arr)\n",
    "print(\"x   :\",x) "
   ]
  },
  {
   "source": [
    "### Every NumPy array has the attribute `base` that returns None if the array owns the data.\n",
    "\n"
   ],
   "cell_type": "markdown",
   "metadata": {}
  },
  {
   "cell_type": "code",
   "execution_count": 218,
   "metadata": {},
   "outputs": [
    {
     "output_type": "stream",
     "name": "stdout",
     "text": [
      "base for copy :  None\nbase for view :  [1 2 3 4 5] , => returns the original array\n"
     ]
    }
   ],
   "source": [
    "arr = np.array([1, 2, 3, 4, 5])\n",
    "\n",
    "x = arr.copy()\n",
    "y = arr.view()\n",
    "\n",
    "print(\"base for copy : \",x.base)\n",
    "print(\"base for view : \",y.base , \", => returns the original array\") "
   ]
  },
  {
   "source": [
    "## Shape"
   ],
   "cell_type": "markdown",
   "metadata": {}
  },
  {
   "cell_type": "code",
   "execution_count": 222,
   "metadata": {},
   "outputs": [
    {
     "output_type": "stream",
     "name": "stdout",
     "text": [
      "3 dimentional array, with 5 rows and 7 elements\n[[[19 97 83 44 30  2 25]\n  [12 69  4 95 47 48 30]\n  [ 5 98 42 50 15  7 63]\n  [89 68 54 75 98 99 48]\n  [62 92 96 21 67 12 57]]\n\n [[52 71 58 29  7 33 22]\n  [87 98 73  3  5 44 62]\n  [14  4 32 61 43 57 83]\n  [ 4 54 36 40 55 17 49]\n  [35 85 85 41  9 47 76]]\n\n [[93 94 47 58 74 54 39]\n  [85 73 31 20 41 10 72]\n  [80 84 82 81 94  8 58]\n  [34  3 64  8 22  7 59]\n  [92 28 57 30 19 87 31]]]\n# of dims 3\nShape of the array is :  (3, 5, 7)\nSize of the array is :  105\n--------------------\n"
     ]
    }
   ],
   "source": [
    "print(\"3 dimentional array, with 5 rows and 7 elements\")\n",
    "arr = np.random.randint(1,100, size=(3,5,7)) \n",
    "print(arr)\n",
    "print(\"# of dims\",arr.ndim)\n",
    "print(\"Shape of the array is : \", arr.shape)\n",
    "print(\"Size of the array is : \", arr.size)\n",
    "print(\"-\"*20)"
   ]
  },
  {
   "source": [
    "## Reshape"
   ],
   "cell_type": "markdown",
   "metadata": {}
  },
  {
   "cell_type": "code",
   "execution_count": 240,
   "metadata": {},
   "outputs": [
    {
     "output_type": "stream",
     "name": "stdout",
     "text": [
      "3 dimentional array, with 4 rows and 2 elements\n[[[50 21]\n  [72 80]\n  [20 79]\n  [12 45]]\n\n [[46 93]\n  [77  8]\n  [50 85]\n  [68 46]]\n\n [[99  8]\n  [88 42]\n  [49 23]\n  [ 6 92]]]\n# of dims 3\nShape of the array is :  (3, 4, 2)\nSize of the array is :  24\n--------------------\nReshaping array to 4 dimentional array, with 2 rows of 3, 2D arrays\n[[[[50 21]\n   [72 80]]\n\n  [[20 79]\n   [12 45]]\n\n  [[46 93]\n   [77  8]]]\n\n\n [[[50 85]\n   [68 46]]\n\n  [[99  8]\n   [88 42]]\n\n  [[49 23]\n   [ 6 92]]]]\n# of dims in newarr 4\nShape of the newarr is :  (2, 3, 2, 2)\nSize of the newarr is :  24\n--------------------\n"
     ]
    }
   ],
   "source": [
    "print(\"3 dimentional array, with 4 rows and 2 elements\")\n",
    "arr = np.random.randint(1,100, size=(3,4,2)) \n",
    "print(arr)\n",
    "print(\"# of dims\",arr.ndim)\n",
    "print(\"Shape of the array is : \", arr.shape)\n",
    "print(\"Size of the array is : \", arr.size)\n",
    "print(\"-\"*20)\n",
    "\n",
    "print(\"Reshaping array to 4 dimentional array, with 2 rows of 3, 2D arrays\")\n",
    "\"\"\"\n",
    "4th dimension has 2 3D arrays\n",
    "3rd dimesion has 3 2D arrays\n",
    "2nd dimension has 2 arrays with 2 elements each\n",
    "1st dimention has 2 elements \n",
    "\"\"\"\n",
    "newarr = arr.reshape(2,3,2,2) # should be equal to dimension\n",
    "print(newarr)\n",
    "print(\"# of dims in newarr\",newarr.ndim)\n",
    "print(\"Shape of the newarr is : \", newarr.shape) # why this is not changing?\n",
    "print(\"Size of the newarr is : \", newarr.size)\n",
    "print(\"-\"*20)"
   ]
  },
  {
   "cell_type": "code",
   "execution_count": 241,
   "metadata": {},
   "outputs": [
    {
     "output_type": "stream",
     "name": "stdout",
     "text": [
      "[[[[50]\n   [21]]\n\n  [[72]\n   [80]]]\n\n\n [[[20]\n   [79]]\n\n  [[12]\n   [45]]]\n\n\n [[[46]\n   [93]]\n\n  [[77]\n   [ 8]]]\n\n\n [[[50]\n   [85]]\n\n  [[68]\n   [46]]]\n\n\n [[[99]\n   [ 8]]\n\n  [[88]\n   [42]]]\n\n\n [[[49]\n   [23]]\n\n  [[ 6]\n   [92]]]]\n# of dims in newarr 4\nShape of the newarr is :  (6, 2, 2, 1)\nSize of the newarr is :  24\n--------------------\n"
     ]
    }
   ],
   "source": [
    "# can reshape only to same size array\n",
    "\n",
    "# Unknown dimension\n",
    "# Note: We can not pass -1 to more than one dimension.\n",
    "\n",
    "\"\"\"\n",
    "4th dimension has 6 3D arrays\n",
    "3rd dimesion has 2 2D arrays\n",
    "2nd dimension has 2 arrays with 1 elements each\n",
    "1st dimention has 1 elements \n",
    "\"\"\"\n",
    "newarr = arr.reshape(-1,2,2,1) # should be equal to dimension, 4 in this case as we want 4D array\n",
    "print(newarr)\n",
    "print(\"# of dims in newarr\",newarr.ndim)\n",
    "print(\"Shape of the newarr is : \", newarr.shape)\n",
    "print(\"Size of the newarr is : \", newarr.size)\n",
    "print(\"-\"*20)\n"
   ]
  },
  {
   "source": [
    "## Flattening the arrays"
   ],
   "cell_type": "markdown",
   "metadata": {}
  },
  {
   "cell_type": "code",
   "execution_count": 242,
   "metadata": {},
   "outputs": [
    {
     "output_type": "stream",
     "name": "stdout",
     "text": [
      "[50 21 72 80 20 79 12 45 46 93 77  8 50 85 68 46 99  8 88 42 49 23  6 92]\n# of dims in flatarr 1\nShape of the flatarr is :  (24,)\nSize of the flatarr is :  24\n--------------------\n"
     ]
    }
   ],
   "source": [
    "flatarr = newarr.reshape(-1)\n",
    "print(flatarr)\n",
    "print(\"# of dims in flatarr\",flatarr.ndim)\n",
    "print(\"Shape of the flatarr is : \", flatarr.shape)\n",
    "print(\"Size of the flatarr is : \", flatarr.size)\n",
    "print(\"-\"*20)\n"
   ]
  },
  {
   "source": [
    "**Note:** There are a lot of functions for changing the shapes of arrays in numpy `flatten`, `ravel` and also for rearranging the elements `rot90`, `flip`, `fliplr`, `flipud` etc. These fall under Intermediate to Advanced section of numpy."
   ],
   "cell_type": "markdown",
   "metadata": {}
  },
  {
   "cell_type": "code",
   "execution_count": 248,
   "metadata": {},
   "outputs": [
    {
     "output_type": "stream",
     "name": "stdout",
     "text": [
      "flatten [50 21 72 80 20 79 12 45 46 93 77  8 50 85 68 46 99  8 88 42 49 23  6 92]\nravel   [50 21 72 80 20 79 12 45 46 93 77  8 50 85 68 46 99  8 88 42 49 23  6 92]\n"
     ]
    }
   ],
   "source": [
    "print(\"flatten\", newarr.flatten())\n",
    "print(\"ravel  \", newarr.ravel())"
   ]
  },
  {
   "source": [
    "## Iterating"
   ],
   "cell_type": "markdown",
   "metadata": {}
  },
  {
   "cell_type": "code",
   "execution_count": 250,
   "metadata": {},
   "outputs": [
    {
     "output_type": "stream",
     "name": "stdout",
     "text": [
      "28\n84\n61\n91\n85\n82\n32\n41\n44\n60\n"
     ]
    }
   ],
   "source": [
    "# 1D array\n",
    "arr = np.random.randint(1,100,10)\n",
    "for i in arr:\n",
    "    print(i)"
   ]
  },
  {
   "cell_type": "code",
   "execution_count": 254,
   "metadata": {},
   "outputs": [
    {
     "output_type": "stream",
     "name": "stdout",
     "text": [
      "row-0 :  [18 82  8 70 34]\nrow-1 :  [92 50 92 98 29]\nrow-2 :  [77  2 17 24 44]\n"
     ]
    }
   ],
   "source": [
    "# 2D array\n",
    "arr = np.random.randint(1,100, size=(3,5))\n",
    "for k,v in enumerate(arr):\n",
    "    print(\"row-\"+str(k)+\" : \",v)"
   ]
  },
  {
   "cell_type": "code",
   "execution_count": 259,
   "metadata": {},
   "outputs": [
    {
     "output_type": "stream",
     "name": "stdout",
     "text": [
      "row-0 : \n [[19 42]\n [73 21]\n [97 85]\n [ 5 35]\n [ 6 31]]\n--------------------\nrow-0,0 :  [19 42]\nrow-0,1 :  [73 21]\nrow-0,2 :  [97 85]\nrow-0,3 :  [ 5 35]\nrow-0,4 :  [ 6 31]\n====================\nrow-1 : \n [[20 99]\n [ 2 79]\n [91 81]\n [90 92]\n [22 44]]\n--------------------\nrow-1,0 :  [20 99]\nrow-1,1 :  [ 2 79]\nrow-1,2 :  [91 81]\nrow-1,3 :  [90 92]\nrow-1,4 :  [22 44]\n====================\nrow-2 : \n [[82 52]\n [53 18]\n [12 30]\n [86 97]\n [ 8 11]]\n--------------------\nrow-2,0 :  [82 52]\nrow-2,1 :  [53 18]\nrow-2,2 :  [12 30]\nrow-2,3 :  [86 97]\nrow-2,4 :  [ 8 11]\n====================\n"
     ]
    }
   ],
   "source": [
    "# 3D array\n",
    "arr = np.random.randint(1,100, size=(3,5,2))\n",
    "for i,x in enumerate(arr):\n",
    "    print(\"row-\"+str(i)+\" : \\n\",x)\n",
    "    print(\"-\"*20)\n",
    "    for j,y in enumerate(x):\n",
    "        print(\"row-\"+str(i)+\",\"+str(j)+\" : \",y)\n",
    "    print(\"=\"*20)"
   ]
  },
  {
   "cell_type": "code",
   "execution_count": 275,
   "metadata": {},
   "outputs": [
    {
     "output_type": "stream",
     "name": "stdout",
     "text": [
      "4D row-0 : \n [[[69 57 18 87]\n  [85 86 50 43]\n  [42 11 14  8]]]\n--------------------\n3D row-0,0 : \n [[69 57 18 87]\n [85 86 50 43]\n [42 11 14  8]]\n2D row-0,0,0 :  [69 57 18 87]\n1D row-0,0,0,0 :  69\n1D row-0,0,0,1 :  57\n1D row-0,0,0,2 :  18\n1D row-0,0,0,3 :  87\n====================\n2D row-0,0,1 :  [85 86 50 43]\n1D row-0,0,1,0 :  85\n1D row-0,0,1,1 :  86\n1D row-0,0,1,2 :  50\n1D row-0,0,1,3 :  43\n====================\n2D row-0,0,2 :  [42 11 14  8]\n1D row-0,0,2,0 :  42\n1D row-0,0,2,1 :  11\n1D row-0,0,2,2 :  14\n1D row-0,0,2,3 :  8\n====================\n4D row-1 : \n [[[64 85  2 23]\n  [14 68 65 39]\n  [ 2  7  4 33]]]\n--------------------\n3D row-1,0 : \n [[64 85  2 23]\n [14 68 65 39]\n [ 2  7  4 33]]\n2D row-1,0,0 :  [64 85  2 23]\n1D row-1,0,0,0 :  64\n1D row-1,0,0,1 :  85\n1D row-1,0,0,2 :  2\n1D row-1,0,0,3 :  23\n====================\n2D row-1,0,1 :  [14 68 65 39]\n1D row-1,0,1,0 :  14\n1D row-1,0,1,1 :  68\n1D row-1,0,1,2 :  65\n1D row-1,0,1,3 :  39\n====================\n2D row-1,0,2 :  [ 2  7  4 33]\n1D row-1,0,2,0 :  2\n1D row-1,0,2,1 :  7\n1D row-1,0,2,2 :  4\n1D row-1,0,2,3 :  33\n====================\n"
     ]
    }
   ],
   "source": [
    "# 4D array\n",
    "arr = np.random.randint(1,100, size=(2,1,3,4))\n",
    "for i,x in enumerate(arr):\n",
    "    print(\"4D row-\"+str(i)+\" : \\n\",x)\n",
    "    print(\"-\"*20)\n",
    "    for j,y in enumerate(x):\n",
    "        print(\"3D row-\"+str(i)+\",\"+str(j)+\" : \\n\",y)\n",
    "        for k,z in enumerate(y):\n",
    "            print(\"2D row-\"+str(i)+\",\"+str(j)+\",\"+str(k)+\" : \",z)\n",
    "            for l,a in enumerate(z):\n",
    "                print(\"1D row-\"+str(i)+\",\"+str(j)+\",\"+str(k)+\",\"+str(l)+\" : \",a)\n",
    "            print(\"=\"*20)"
   ]
  },
  {
   "source": [
    "## Iterating Arrays Using `nditer()`\n",
    "\n",
    "The function nditer() is a helping function that can be used from very basic to very advanced iterations. "
   ],
   "cell_type": "markdown",
   "metadata": {}
  },
  {
   "cell_type": "code",
   "execution_count": 278,
   "metadata": {},
   "outputs": [
    {
     "output_type": "stream",
     "name": "stdout",
     "text": [
      "1\n2\n3\n4\n5\n6\n7\n8\n"
     ]
    }
   ],
   "source": [
    "# 3D array\n",
    "arr = np.array([[[1, 2], [3, 4]], [[5, 6], [7, 8]]])\n",
    "\n",
    "# prints each element in the nd array\n",
    "for x in np.nditer(arr):\n",
    "  print(x) "
   ]
  },
  {
   "source": [
    "## Iterating Array With Different Data Types\n",
    "\n",
    "We can use `op_dtypes` argument and pass it the expected datatype to change the datatype of elements while iterating.\n",
    "\n",
    "NumPy does not change the data type of the element in-place (where the element is in array) so it needs some other space to perform this action, that extra space is called buffer, and in order to enable it in `nditer()` we pass `flags=['buffered']`."
   ],
   "cell_type": "markdown",
   "metadata": {}
  },
  {
   "cell_type": "code",
   "execution_count": 284,
   "metadata": {},
   "outputs": [
    {
     "output_type": "stream",
     "name": "stdout",
     "text": [
      "b'95'\nb'81'\nb'50'\nb'98'\nb'97'\nb'27'\nb'34'\nb'70'\n"
     ]
    }
   ],
   "source": [
    "# 3D array\n",
    "arr = np.random.randint(1,100, size=(2,2,2))\n",
    "\n",
    "for i in np.nditer(arr, op_dtypes=['S'], flags=['buffered']):\n",
    "    print(i)"
   ]
  },
  {
   "source": [
    "## nditer step size\n",
    "\n"
   ],
   "cell_type": "markdown",
   "metadata": {}
  },
  {
   "cell_type": "code",
   "execution_count": 303,
   "metadata": {},
   "outputs": [
    {
     "output_type": "stream",
     "name": "stdout",
     "text": [
      "[[[19 99  4 24 42 89 27 34]\n  [99 99 29 66 58 94 85 26]\n  [52 36  9 58 16 90 87 13]]\n\n [[36  8 11 85 25  6 95 96]\n  [58 92 36 81 87 12 39 43]\n  [32 57 25 23 99 65 90 33]]\n\n [[69  4 72  6 80 34 17 79]\n  [76 24 15 52 51 81 39 31]\n  [69 76  6 16 59 16 54 32]]\n\n [[77 51 97 65 85 79 67 67]\n  [93 66 82 32 74 30 68 20]\n  [43 75 22 89 78 28 10 24]]\n\n [[39 91 77  7 11 28 26 16]\n  [ 7 96  8 89 84 20 76 98]\n  [13 81 51 45 82 37 20 23]]]\n--------------------\n[[[85 96]\n  [23 33]]\n\n [[65 67]\n  [89 24]]]\n85\n96\n23\n33\n65\n67\n89\n24\n"
     ]
    }
   ],
   "source": [
    "# 3D array\n",
    "arr = np.random.randint(1,100, size=(5,3,8))\n",
    "\n",
    "print(arr)\n",
    "print('-'*20)\n",
    "print(arr[1:5:2, ::2,3::4])\n",
    "\n",
    "\"\"\"\n",
    "1. identify the rows from 3D array, 1:5:2 => every other row starting from 2nd element, (index 1 and 3)\n",
    "2. get row at index 0 and 2 from array at index 1 and 3 from prev step\n",
    "3. get every 4th element, starting form index 3 from prev step result\n",
    "\"\"\"\n",
    "for x in np.nditer(arr[1:5:2, ::2,3::4]):\n",
    "  print(x) \n"
   ]
  },
  {
   "source": [
    "## Enumerated Iteration Using `ndenumerate()`"
   ],
   "cell_type": "markdown",
   "metadata": {}
  },
  {
   "cell_type": "code",
   "execution_count": 304,
   "metadata": {},
   "outputs": [
    {
     "output_type": "stream",
     "name": "stdout",
     "text": [
      "(0, 0) 1\n(0, 1) 2\n(0, 2) 3\n(0, 3) 4\n(1, 0) 5\n(1, 1) 6\n(1, 2) 7\n(1, 3) 8\n"
     ]
    }
   ],
   "source": [
    "arr = np.array([[1, 2, 3, 4], [5, 6, 7, 8]])\n",
    "for idx, x in np.ndenumerate(arr):\n",
    "  print(idx, x) "
   ]
  },
  {
   "cell_type": "code",
   "execution_count": 305,
   "metadata": {},
   "outputs": [
    {
     "output_type": "stream",
     "name": "stdout",
     "text": [
      "(0, 0, 0) 92\n(0, 0, 1) 56\n(0, 1, 0) 88\n(0, 1, 1) 1\n(0, 2, 0) 42\n(0, 2, 1) 71\n(0, 3, 0) 79\n(0, 3, 1) 18\n(0, 4, 0) 84\n(0, 4, 1) 31\n(1, 0, 0) 71\n(1, 0, 1) 20\n(1, 1, 0) 13\n(1, 1, 1) 43\n(1, 2, 0) 21\n(1, 2, 1) 13\n(1, 3, 0) 51\n(1, 3, 1) 17\n(1, 4, 0) 15\n(1, 4, 1) 11\n(2, 0, 0) 4\n(2, 0, 1) 98\n(2, 1, 0) 78\n(2, 1, 1) 57\n(2, 2, 0) 1\n(2, 2, 1) 13\n(2, 3, 0) 60\n(2, 3, 1) 95\n(2, 4, 0) 54\n(2, 4, 1) 67\n(3, 0, 0) 95\n(3, 0, 1) 44\n(3, 1, 0) 69\n(3, 1, 1) 88\n(3, 2, 0) 58\n(3, 2, 1) 30\n(3, 3, 0) 97\n(3, 3, 1) 13\n(3, 4, 0) 95\n(3, 4, 1) 79\n"
     ]
    }
   ],
   "source": [
    "arr  = np.random.randint(1,100,size=(4,5,2))\n",
    "for idx,x in np.ndenumerate(arr):\n",
    "    print(idx,x)"
   ]
  },
  {
   "cell_type": "code",
   "execution_count": null,
   "metadata": {},
   "outputs": [],
   "source": []
  }
 ]
}